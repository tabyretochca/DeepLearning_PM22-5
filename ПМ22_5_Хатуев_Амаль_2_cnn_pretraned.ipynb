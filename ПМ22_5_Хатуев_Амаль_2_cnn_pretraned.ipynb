{
  "metadata": {
    "kernelspec": {
      "name": "python3",
      "display_name": "Python 3",
      "language": "python"
    },
    "language_info": {
      "name": "python",
      "version": "3.10.14",
      "mimetype": "text/x-python",
      "codemirror_mode": {
        "name": "ipython",
        "version": 3
      },
      "pygments_lexer": "ipython3",
      "nbconvert_exporter": "python",
      "file_extension": ".py"
    },
    "kaggle": {
      "accelerator": "gpu",
      "dataSources": [
        {
          "sourceId": 9736488,
          "sourceType": "datasetVersion",
          "datasetId": 5959113
        }
      ],
      "dockerImageVersionId": 30787,
      "isInternetEnabled": true,
      "language": "python",
      "sourceType": "notebook",
      "isGpuEnabled": true
    },
    "colab": {
      "provenance": []
    }
  },
  "nbformat_minor": 5,
  "nbformat": 4,
  "cells": [
    {
      "cell_type": "markdown",
      "source": [
        "#  Использование предобученных моделей для классификации изображений\n",
        "\n",
        "__Автор задач: Блохин Н.В. (NVBlokhin@fa.ru)__\n",
        "\n",
        "Материалы:\n",
        "* Deep Learning with PyTorch (2020) Авторы: Eli Stevens, Luca Antiga, Thomas Viehmann\n",
        "* https://pytorch.org/vision/0.16/transforms.html#v2-api-reference-recommended\n",
        "* https://pytorch.org/vision/main/generated/torchvision.datasets.ImageFolder.html\n",
        "* https://pytorch.org/vision/stable/models.html\n",
        "* https://albumentations.ai/docs/getting_started/image_augmentation/"
      ],
      "metadata": {
        "id": "mR2vKDPYp0_P"
      },
      "id": "mR2vKDPYp0_P"
    },
    {
      "cell_type": "code",
      "source": [
        "import os\n",
        "import time\n",
        "from torchvision import datasets, transforms\n",
        "from torch.utils.data import DataLoader, random_split\n",
        "import numpy as np\n",
        "from PIL import Image\n",
        "from torchvision import models\n",
        "from torchvision.models import VGG16_Weights\n",
        "import torch\n",
        "import torch.nn as nn\n",
        "import torch.optim as optim\n",
        "import torch.nn.functional as F\n",
        "import matplotlib.pyplot as plt\n",
        "from sklearn.metrics import confusion_matrix, accuracy_score\n",
        "import seaborn as sns\n",
        "import random"
      ],
      "metadata": {
        "execution": {
          "iopub.status.busy": "2024-10-27T15:05:05.048831Z",
          "iopub.execute_input": "2024-10-27T15:05:05.049219Z",
          "iopub.status.idle": "2024-10-27T15:05:05.055354Z",
          "shell.execute_reply.started": "2024-10-27T15:05:05.049181Z",
          "shell.execute_reply": "2024-10-27T15:05:05.054503Z"
        },
        "trusted": true,
        "id": "wHQR7lwop0_R"
      },
      "execution_count": null,
      "outputs": [],
      "id": "wHQR7lwop0_R"
    },
    {
      "cell_type": "code",
      "source": [
        "device = torch.device(\"cuda\" if torch.cuda.is_available() else \"cpu\")\n",
        "print(f\"Using device: {device}\")"
      ],
      "metadata": {
        "execution": {
          "iopub.status.busy": "2024-10-27T14:48:26.217730Z",
          "iopub.execute_input": "2024-10-27T14:48:26.218748Z",
          "iopub.status.idle": "2024-10-27T14:48:26.259811Z",
          "shell.execute_reply.started": "2024-10-27T14:48:26.218694Z",
          "shell.execute_reply": "2024-10-27T14:48:26.258826Z"
        },
        "trusted": true,
        "id": "wcSaTVzOp0_S",
        "outputId": "9f992887-c4f7-44c6-84f5-05477b26c794"
      },
      "execution_count": null,
      "outputs": [
        {
          "name": "stdout",
          "text": "Using device: cuda\n",
          "output_type": "stream"
        }
      ],
      "id": "wcSaTVzOp0_S"
    },
    {
      "cell_type": "markdown",
      "source": [
        "## Задачи для совместного разбора"
      ],
      "metadata": {
        "id": "psxwoimgp0_T"
      },
      "id": "psxwoimgp0_T"
    },
    {
      "cell_type": "markdown",
      "source": [
        "1\\. Загрузите предобученную модель из `torchvision`. Познакомьтесь с ее архитектурой. Заморозьте веса нескольких слоев."
      ],
      "metadata": {
        "id": "1MiUVtP1p0_T"
      },
      "id": "1MiUVtP1p0_T"
    },
    {
      "cell_type": "markdown",
      "source": [
        "## Задачи для самостоятельного решения"
      ],
      "metadata": {
        "id": "MaH9fjJdp0_T"
      },
      "id": "MaH9fjJdp0_T"
    },
    {
      "cell_type": "markdown",
      "source": [
        "<p class=\"task\" id=\"1\"></p>\n",
        "\n",
        "1\\. Используя реализацию из `torchvision`, cоздайте модель `vgg16` и загрузите предобученные веса `IMAGENET1K_V1`. Выведите на экран структуру модели, количество слоев и количество настраиваемых (`requires_grad==True`) параметров модели.\n",
        "\n",
        "- [ ] Проверено на семинаре"
      ],
      "metadata": {
        "id": "Z_KufQ_Fp0_T"
      },
      "id": "Z_KufQ_Fp0_T"
    },
    {
      "cell_type": "code",
      "source": [
        "vgg16 = models.vgg16(weights=models.VGG16_Weights.IMAGENET1K_V1)"
      ],
      "metadata": {
        "execution": {
          "iopub.status.busy": "2024-10-27T14:49:36.309475Z",
          "iopub.execute_input": "2024-10-27T14:49:36.309860Z",
          "iopub.status.idle": "2024-10-27T14:49:40.318666Z",
          "shell.execute_reply.started": "2024-10-27T14:49:36.309824Z",
          "shell.execute_reply": "2024-10-27T14:49:40.317599Z"
        },
        "trusted": true,
        "id": "-QkiPlkKp0_T",
        "outputId": "a68aed99-8ad5-4381-ed98-d8cc3ec32d8e"
      },
      "execution_count": null,
      "outputs": [
        {
          "name": "stderr",
          "text": "Downloading: \"https://download.pytorch.org/models/vgg16-397923af.pth\" to /root/.cache/torch/hub/checkpoints/vgg16-397923af.pth\n100%|██████████| 528M/528M [00:02<00:00, 227MB/s] \n",
          "output_type": "stream"
        }
      ],
      "id": "-QkiPlkKp0_T"
    },
    {
      "cell_type": "code",
      "source": [
        "print(vgg16)"
      ],
      "metadata": {
        "execution": {
          "iopub.status.busy": "2024-10-27T14:50:13.714985Z",
          "iopub.execute_input": "2024-10-27T14:50:13.715361Z",
          "iopub.status.idle": "2024-10-27T14:50:13.720464Z",
          "shell.execute_reply.started": "2024-10-27T14:50:13.715325Z",
          "shell.execute_reply": "2024-10-27T14:50:13.719568Z"
        },
        "trusted": true,
        "id": "UG8NjB-0p0_U",
        "outputId": "71fe5670-215b-47a6-ed6b-c7554c490c10"
      },
      "execution_count": null,
      "outputs": [
        {
          "name": "stdout",
          "text": "VGG(\n  (features): Sequential(\n    (0): Conv2d(3, 64, kernel_size=(3, 3), stride=(1, 1), padding=(1, 1))\n    (1): ReLU(inplace=True)\n    (2): Conv2d(64, 64, kernel_size=(3, 3), stride=(1, 1), padding=(1, 1))\n    (3): ReLU(inplace=True)\n    (4): MaxPool2d(kernel_size=2, stride=2, padding=0, dilation=1, ceil_mode=False)\n    (5): Conv2d(64, 128, kernel_size=(3, 3), stride=(1, 1), padding=(1, 1))\n    (6): ReLU(inplace=True)\n    (7): Conv2d(128, 128, kernel_size=(3, 3), stride=(1, 1), padding=(1, 1))\n    (8): ReLU(inplace=True)\n    (9): MaxPool2d(kernel_size=2, stride=2, padding=0, dilation=1, ceil_mode=False)\n    (10): Conv2d(128, 256, kernel_size=(3, 3), stride=(1, 1), padding=(1, 1))\n    (11): ReLU(inplace=True)\n    (12): Conv2d(256, 256, kernel_size=(3, 3), stride=(1, 1), padding=(1, 1))\n    (13): ReLU(inplace=True)\n    (14): Conv2d(256, 256, kernel_size=(3, 3), stride=(1, 1), padding=(1, 1))\n    (15): ReLU(inplace=True)\n    (16): MaxPool2d(kernel_size=2, stride=2, padding=0, dilation=1, ceil_mode=False)\n    (17): Conv2d(256, 512, kernel_size=(3, 3), stride=(1, 1), padding=(1, 1))\n    (18): ReLU(inplace=True)\n    (19): Conv2d(512, 512, kernel_size=(3, 3), stride=(1, 1), padding=(1, 1))\n    (20): ReLU(inplace=True)\n    (21): Conv2d(512, 512, kernel_size=(3, 3), stride=(1, 1), padding=(1, 1))\n    (22): ReLU(inplace=True)\n    (23): MaxPool2d(kernel_size=2, stride=2, padding=0, dilation=1, ceil_mode=False)\n    (24): Conv2d(512, 512, kernel_size=(3, 3), stride=(1, 1), padding=(1, 1))\n    (25): ReLU(inplace=True)\n    (26): Conv2d(512, 512, kernel_size=(3, 3), stride=(1, 1), padding=(1, 1))\n    (27): ReLU(inplace=True)\n    (28): Conv2d(512, 512, kernel_size=(3, 3), stride=(1, 1), padding=(1, 1))\n    (29): ReLU(inplace=True)\n    (30): MaxPool2d(kernel_size=2, stride=2, padding=0, dilation=1, ceil_mode=False)\n  )\n  (avgpool): AdaptiveAvgPool2d(output_size=(7, 7))\n  (classifier): Sequential(\n    (0): Linear(in_features=25088, out_features=4096, bias=True)\n    (1): ReLU(inplace=True)\n    (2): Dropout(p=0.5, inplace=False)\n    (3): Linear(in_features=4096, out_features=4096, bias=True)\n    (4): ReLU(inplace=True)\n    (5): Dropout(p=0.5, inplace=False)\n    (6): Linear(in_features=4096, out_features=1000, bias=True)\n  )\n)\n",
          "output_type": "stream"
        }
      ],
      "id": "UG8NjB-0p0_U"
    },
    {
      "cell_type": "code",
      "source": [
        "total_layers = sum(1 for _ in vgg16.children())\n",
        "trainable_params = sum(p.numel() for p in vgg16.parameters() if p.requires_grad)\n",
        "print(f\"Total layers: {total_layers}\")\n",
        "print(f\"Trainable parameters: {trainable_params}\")"
      ],
      "metadata": {
        "execution": {
          "iopub.status.busy": "2024-10-27T14:50:32.533500Z",
          "iopub.execute_input": "2024-10-27T14:50:32.533964Z",
          "iopub.status.idle": "2024-10-27T14:50:32.541504Z",
          "shell.execute_reply.started": "2024-10-27T14:50:32.533919Z",
          "shell.execute_reply": "2024-10-27T14:50:32.540297Z"
        },
        "trusted": true,
        "id": "CeCl4fcgp0_U",
        "outputId": "d08b46bc-44b3-41f3-ca3d-1e8ab145deeb"
      },
      "execution_count": null,
      "outputs": [
        {
          "name": "stdout",
          "text": "Total layers: 3\nTrainable parameters: 138357544\n",
          "output_type": "stream"
        }
      ],
      "id": "CeCl4fcgp0_U"
    },
    {
      "cell_type": "code",
      "source": [],
      "metadata": {
        "id": "p4Lx3xR0p0_U"
      },
      "execution_count": null,
      "outputs": [],
      "id": "p4Lx3xR0p0_U"
    },
    {
      "cell_type": "code",
      "source": [],
      "metadata": {
        "id": "rnbuX9u5p0_U"
      },
      "execution_count": null,
      "outputs": [],
      "id": "rnbuX9u5p0_U"
    },
    {
      "cell_type": "markdown",
      "source": [
        "<p class=\"task\" id=\"2\"></p>\n",
        "\n",
        "2\\. Создайте датасет `CatBreeds` на основе данных из архива `cat_breeds_4.zip`. Разбейте датасет на обучающее и тестовое множество в соотношении 80 на 20%.\n",
        "\n",
        "К обучающему датасету примените следующее преобразование: приведите картинки к размеру 256x256, затем обрежьте по центру с размером 224х224, затем переведите изображения в тензор и нормализуйте значения интенсивности пикселей (`mean=(0.485, 0.456, 0.406), std=(0.229, 0.224, 0.225)`).\n",
        "\n",
        "К тестовому датасету примените преобразование `VGG16_Weights.IMAGENET1K_V1.transforms`.\n",
        "\n",
        "- [ ] Проверено на семинаре"
      ],
      "metadata": {
        "id": "cmx7O8iUp0_U"
      },
      "id": "cmx7O8iUp0_U"
    },
    {
      "cell_type": "code",
      "source": [
        "data_dir = '/kaggle/input/cat-breeds/cat_breeds_4'"
      ],
      "metadata": {
        "execution": {
          "iopub.status.busy": "2024-10-27T14:52:01.586830Z",
          "iopub.execute_input": "2024-10-27T14:52:01.587755Z",
          "iopub.status.idle": "2024-10-27T14:52:01.591661Z",
          "shell.execute_reply.started": "2024-10-27T14:52:01.587711Z",
          "shell.execute_reply": "2024-10-27T14:52:01.590700Z"
        },
        "trusted": true,
        "id": "Z72sIaHsp0_U"
      },
      "execution_count": null,
      "outputs": [],
      "id": "Z72sIaHsp0_U"
    },
    {
      "cell_type": "code",
      "source": [
        "train_transform = transforms.Compose([\n",
        "    transforms.Resize((256, 256)),\n",
        "    transforms.CenterCrop(224),\n",
        "    transforms.ToTensor(),\n",
        "    transforms.Normalize(mean=(0.485, 0.456, 0.406), std=(0.229, 0.224, 0.225))\n",
        "])\n",
        "\n",
        "test_transform = VGG16_Weights.IMAGENET1K_V1.transforms()"
      ],
      "metadata": {
        "execution": {
          "iopub.status.busy": "2024-10-27T14:54:33.851705Z",
          "iopub.execute_input": "2024-10-27T14:54:33.852570Z",
          "iopub.status.idle": "2024-10-27T14:54:33.857795Z",
          "shell.execute_reply.started": "2024-10-27T14:54:33.852521Z",
          "shell.execute_reply": "2024-10-27T14:54:33.856838Z"
        },
        "trusted": true,
        "id": "iRP7yHLTp0_V"
      },
      "execution_count": null,
      "outputs": [],
      "id": "iRP7yHLTp0_V"
    },
    {
      "cell_type": "code",
      "source": [
        "full_dataset = datasets.ImageFolder(data_dir, transform=train_transform)"
      ],
      "metadata": {
        "execution": {
          "iopub.status.busy": "2024-10-27T14:55:17.903074Z",
          "iopub.execute_input": "2024-10-27T14:55:17.903444Z",
          "iopub.status.idle": "2024-10-27T14:55:18.835634Z",
          "shell.execute_reply.started": "2024-10-27T14:55:17.903408Z",
          "shell.execute_reply": "2024-10-27T14:55:18.834831Z"
        },
        "trusted": true,
        "id": "w-Elca1Dp0_V"
      },
      "execution_count": null,
      "outputs": [],
      "id": "w-Elca1Dp0_V"
    },
    {
      "cell_type": "code",
      "source": [
        "train_size = int(0.8 * len(full_dataset))\n",
        "test_size = len(full_dataset) - train_size\n",
        "train_dataset, test_dataset = random_split(full_dataset, [train_size, test_size])"
      ],
      "metadata": {
        "execution": {
          "iopub.status.busy": "2024-10-27T14:55:19.899385Z",
          "iopub.execute_input": "2024-10-27T14:55:19.899774Z",
          "iopub.status.idle": "2024-10-27T14:55:19.918848Z",
          "shell.execute_reply.started": "2024-10-27T14:55:19.899739Z",
          "shell.execute_reply": "2024-10-27T14:55:19.918150Z"
        },
        "trusted": true,
        "id": "WP6En6Rfp0_V"
      },
      "execution_count": null,
      "outputs": [],
      "id": "WP6En6Rfp0_V"
    },
    {
      "cell_type": "code",
      "source": [
        "test_dataset.dataset.transform = test_transform"
      ],
      "metadata": {
        "execution": {
          "iopub.status.busy": "2024-10-27T14:55:20.955119Z",
          "iopub.execute_input": "2024-10-27T14:55:20.955746Z",
          "iopub.status.idle": "2024-10-27T14:55:20.959814Z",
          "shell.execute_reply.started": "2024-10-27T14:55:20.955703Z",
          "shell.execute_reply": "2024-10-27T14:55:20.958898Z"
        },
        "trusted": true,
        "id": "-fNctPLPp0_V"
      },
      "execution_count": null,
      "outputs": [],
      "id": "-fNctPLPp0_V"
    },
    {
      "cell_type": "code",
      "source": [
        "train_loader = DataLoader(train_dataset, batch_size=32, shuffle=True)\n",
        "test_loader = DataLoader(test_dataset, batch_size=32, shuffle=False)"
      ],
      "metadata": {
        "execution": {
          "iopub.status.busy": "2024-10-27T14:55:31.863143Z",
          "iopub.execute_input": "2024-10-27T14:55:31.863527Z",
          "iopub.status.idle": "2024-10-27T14:55:31.868433Z",
          "shell.execute_reply.started": "2024-10-27T14:55:31.863489Z",
          "shell.execute_reply": "2024-10-27T14:55:31.867503Z"
        },
        "trusted": true,
        "id": "jJM8Dt2Tp0_V"
      },
      "execution_count": null,
      "outputs": [],
      "id": "jJM8Dt2Tp0_V"
    },
    {
      "cell_type": "code",
      "source": [
        "print(\"Dataset and DataLoader prepared:\")\n",
        "print(f\"Train dataset size: {len(train_dataset)}\")\n",
        "print(f\"Test dataset size: {len(test_dataset)}\")"
      ],
      "metadata": {
        "execution": {
          "iopub.status.busy": "2024-10-27T14:55:56.939319Z",
          "iopub.execute_input": "2024-10-27T14:55:56.939975Z",
          "iopub.status.idle": "2024-10-27T14:55:56.945143Z",
          "shell.execute_reply.started": "2024-10-27T14:55:56.939933Z",
          "shell.execute_reply": "2024-10-27T14:55:56.944125Z"
        },
        "trusted": true,
        "id": "72Hsm0-Dp0_V",
        "outputId": "3a211d07-f977-46de-d709-ded19307c857"
      },
      "execution_count": null,
      "outputs": [
        {
          "name": "stdout",
          "text": "Dataset and DataLoader prepared:\nTrain dataset size: 3200\nTest dataset size: 800\n",
          "output_type": "stream"
        }
      ],
      "id": "72Hsm0-Dp0_V"
    },
    {
      "cell_type": "markdown",
      "source": [
        "<p class=\"task\" id=\"3\"></p>\n",
        "\n",
        "3\\. Заморозьте все веса модели из предыдущего задания. Замените последний слой `Linear` классификатора на новый слой, соответствующий задаче. После изменения последнего слоя выведите на экран количество настраиваемых (`requires_grad==True`) параметров модели. Решите задачу, используя модель с замороженными весами и изменнным последним слоем.\n",
        "\n",
        "Постройте график изменения значения функции потерь на обучающем множестве в зависимости от номера эпохи, графики изменения метрики accuracy на обучающем и тестовом множестве в зависимости от эпохи. Выведите на экран итоговое значение метрики accuracy на обучающем и тестовом множестве.\n",
        "\n",
        "- [ ] Проверено на семинаре"
      ],
      "metadata": {
        "id": "ddmwtOljp0_V"
      },
      "id": "ddmwtOljp0_V"
    },
    {
      "cell_type": "code",
      "source": [
        "for param in vgg16.parameters():\n",
        "    param.requires_grad = False"
      ],
      "metadata": {
        "execution": {
          "iopub.status.busy": "2024-10-27T14:57:08.791173Z",
          "iopub.execute_input": "2024-10-27T14:57:08.791550Z",
          "iopub.status.idle": "2024-10-27T14:57:08.796135Z",
          "shell.execute_reply.started": "2024-10-27T14:57:08.791512Z",
          "shell.execute_reply": "2024-10-27T14:57:08.795217Z"
        },
        "trusted": true,
        "id": "0tNEZFJmp0_W"
      },
      "execution_count": null,
      "outputs": [],
      "id": "0tNEZFJmp0_W"
    },
    {
      "cell_type": "code",
      "source": [
        "num_classes = 4\n",
        "vgg16.classifier[6] = nn.Linear(vgg16.classifier[6].in_features, num_classes)\n",
        "trainable_params = sum(p.numel() for p in vgg16.parameters() if p.requires_grad)\n",
        "print(\"Trainable parameters after modification:\", trainable_params)"
      ],
      "metadata": {
        "execution": {
          "iopub.status.busy": "2024-10-27T14:57:37.570752Z",
          "iopub.execute_input": "2024-10-27T14:57:37.571569Z",
          "iopub.status.idle": "2024-10-27T14:57:37.579222Z",
          "shell.execute_reply.started": "2024-10-27T14:57:37.571523Z",
          "shell.execute_reply": "2024-10-27T14:57:37.578324Z"
        },
        "trusted": true,
        "id": "s5fFG7jCp0_W",
        "outputId": "86aa7fd4-9731-4437-af03-a1fcf3ede54e"
      },
      "execution_count": null,
      "outputs": [
        {
          "name": "stdout",
          "text": "Trainable parameters after modification: 16388\n",
          "output_type": "stream"
        }
      ],
      "id": "s5fFG7jCp0_W"
    },
    {
      "cell_type": "code",
      "source": [
        "vgg16.to(device)"
      ],
      "metadata": {
        "execution": {
          "iopub.status.busy": "2024-10-27T14:57:48.826754Z",
          "iopub.execute_input": "2024-10-27T14:57:48.827134Z",
          "iopub.status.idle": "2024-10-27T14:57:49.183266Z",
          "shell.execute_reply.started": "2024-10-27T14:57:48.827098Z",
          "shell.execute_reply": "2024-10-27T14:57:49.182331Z"
        },
        "trusted": true,
        "id": "SHOYG-LUp0_W",
        "outputId": "6e341c4c-082c-42a7-a302-d7f1285a2fa5"
      },
      "execution_count": null,
      "outputs": [
        {
          "execution_count": 20,
          "output_type": "execute_result",
          "data": {
            "text/plain": "VGG(\n  (features): Sequential(\n    (0): Conv2d(3, 64, kernel_size=(3, 3), stride=(1, 1), padding=(1, 1))\n    (1): ReLU(inplace=True)\n    (2): Conv2d(64, 64, kernel_size=(3, 3), stride=(1, 1), padding=(1, 1))\n    (3): ReLU(inplace=True)\n    (4): MaxPool2d(kernel_size=2, stride=2, padding=0, dilation=1, ceil_mode=False)\n    (5): Conv2d(64, 128, kernel_size=(3, 3), stride=(1, 1), padding=(1, 1))\n    (6): ReLU(inplace=True)\n    (7): Conv2d(128, 128, kernel_size=(3, 3), stride=(1, 1), padding=(1, 1))\n    (8): ReLU(inplace=True)\n    (9): MaxPool2d(kernel_size=2, stride=2, padding=0, dilation=1, ceil_mode=False)\n    (10): Conv2d(128, 256, kernel_size=(3, 3), stride=(1, 1), padding=(1, 1))\n    (11): ReLU(inplace=True)\n    (12): Conv2d(256, 256, kernel_size=(3, 3), stride=(1, 1), padding=(1, 1))\n    (13): ReLU(inplace=True)\n    (14): Conv2d(256, 256, kernel_size=(3, 3), stride=(1, 1), padding=(1, 1))\n    (15): ReLU(inplace=True)\n    (16): MaxPool2d(kernel_size=2, stride=2, padding=0, dilation=1, ceil_mode=False)\n    (17): Conv2d(256, 512, kernel_size=(3, 3), stride=(1, 1), padding=(1, 1))\n    (18): ReLU(inplace=True)\n    (19): Conv2d(512, 512, kernel_size=(3, 3), stride=(1, 1), padding=(1, 1))\n    (20): ReLU(inplace=True)\n    (21): Conv2d(512, 512, kernel_size=(3, 3), stride=(1, 1), padding=(1, 1))\n    (22): ReLU(inplace=True)\n    (23): MaxPool2d(kernel_size=2, stride=2, padding=0, dilation=1, ceil_mode=False)\n    (24): Conv2d(512, 512, kernel_size=(3, 3), stride=(1, 1), padding=(1, 1))\n    (25): ReLU(inplace=True)\n    (26): Conv2d(512, 512, kernel_size=(3, 3), stride=(1, 1), padding=(1, 1))\n    (27): ReLU(inplace=True)\n    (28): Conv2d(512, 512, kernel_size=(3, 3), stride=(1, 1), padding=(1, 1))\n    (29): ReLU(inplace=True)\n    (30): MaxPool2d(kernel_size=2, stride=2, padding=0, dilation=1, ceil_mode=False)\n  )\n  (avgpool): AdaptiveAvgPool2d(output_size=(7, 7))\n  (classifier): Sequential(\n    (0): Linear(in_features=25088, out_features=4096, bias=True)\n    (1): ReLU(inplace=True)\n    (2): Dropout(p=0.5, inplace=False)\n    (3): Linear(in_features=4096, out_features=4096, bias=True)\n    (4): ReLU(inplace=True)\n    (5): Dropout(p=0.5, inplace=False)\n    (6): Linear(in_features=4096, out_features=4, bias=True)\n  )\n)"
          },
          "metadata": {}
        }
      ],
      "id": "SHOYG-LUp0_W"
    },
    {
      "cell_type": "code",
      "source": [
        "criterion = nn.CrossEntropyLoss()\n",
        "optimizer = optim.Adam(vgg16.classifier[6].parameters(), lr=0.001)\n",
        "\n",
        "# Обучение модели\n",
        "num_epochs = 10\n",
        "train_losses = []\n",
        "train_accuracies = []\n",
        "test_accuracies = []\n",
        "\n",
        "start_time = time.time()\n",
        "\n",
        "for epoch in range(num_epochs):\n",
        "    vgg16.train()\n",
        "    running_loss = 0.0\n",
        "    correct_train = 0\n",
        "    total_train = 0\n",
        "\n",
        "    # Обучающая фаза\n",
        "    for images, labels in train_loader:\n",
        "        images, labels = images.to(device), labels.to(device)\n",
        "\n",
        "        optimizer.zero_grad()\n",
        "        outputs = vgg16(images)\n",
        "        loss = criterion(outputs, labels)\n",
        "        loss.backward()\n",
        "        optimizer.step()\n",
        "\n",
        "        running_loss += loss.item()\n",
        "        _, predicted = torch.max(outputs, 1)\n",
        "        correct_train += (predicted == labels).sum().item()\n",
        "        total_train += labels.size(0)\n",
        "\n",
        "    train_loss = running_loss / len(train_loader)\n",
        "    train_accuracy = correct_train / total_train\n",
        "    train_losses.append(train_loss)\n",
        "    train_accuracies.append(train_accuracy)\n",
        "\n",
        "    # Тестовая фаза\n",
        "    vgg16.eval()\n",
        "    correct_test = 0\n",
        "    total_test = 0\n",
        "    with torch.no_grad():\n",
        "        for images, labels in test_loader:\n",
        "            images, labels = images.to(device), labels.to(device)\n",
        "            outputs = vgg16(images)\n",
        "            _, predicted = torch.max(outputs, 1)\n",
        "            correct_test += (predicted == labels).sum().item()\n",
        "            total_test += labels.size(0)\n",
        "\n",
        "    test_accuracy = correct_test / total_test\n",
        "    test_accuracies.append(test_accuracy)\n",
        "\n",
        "    print(f\"Epoch [{epoch + 1}/{num_epochs}], Loss: {train_loss:.4f}, \"\n",
        "          f\"Train Accuracy: {train_accuracy:.4f}, Test Accuracy: {test_accuracy:.4f}\")\n",
        "\n",
        "end_time = time.time()\n",
        "training_time = end_time - start_time"
      ],
      "metadata": {
        "execution": {
          "iopub.status.busy": "2024-10-27T14:58:38.859016Z",
          "iopub.execute_input": "2024-10-27T14:58:38.859401Z",
          "iopub.status.idle": "2024-10-27T15:04:15.113111Z",
          "shell.execute_reply.started": "2024-10-27T14:58:38.859362Z",
          "shell.execute_reply": "2024-10-27T15:04:15.111427Z"
        },
        "trusted": true,
        "id": "LALbdTf7p0_W",
        "outputId": "a2a78e0f-a012-455d-cd82-4b4c3a725fc1"
      },
      "execution_count": null,
      "outputs": [
        {
          "name": "stdout",
          "text": "Epoch [1/10], Loss: 0.6725, Train Accuracy: 0.7247, Test Accuracy: 0.7963\nEpoch [2/10], Loss: 0.5460, Train Accuracy: 0.7837, Test Accuracy: 0.8075\nEpoch [3/10], Loss: 0.5020, Train Accuracy: 0.7963, Test Accuracy: 0.8113\nEpoch [4/10], Loss: 0.5016, Train Accuracy: 0.7972, Test Accuracy: 0.8175\nEpoch [5/10], Loss: 0.4614, Train Accuracy: 0.8109, Test Accuracy: 0.8075\nEpoch [6/10], Loss: 0.4985, Train Accuracy: 0.7937, Test Accuracy: 0.7975\nEpoch [7/10], Loss: 0.4800, Train Accuracy: 0.8113, Test Accuracy: 0.8087\nEpoch [8/10], Loss: 0.4488, Train Accuracy: 0.8116, Test Accuracy: 0.8000\nEpoch [9/10], Loss: 0.4574, Train Accuracy: 0.8209, Test Accuracy: 0.7963\nEpoch [10/10], Loss: 0.4497, Train Accuracy: 0.8153, Test Accuracy: 0.7800\n",
          "output_type": "stream"
        }
      ],
      "id": "LALbdTf7p0_W"
    },
    {
      "cell_type": "code",
      "source": [
        "plt.figure(figsize=(12, 5))\n",
        "\n",
        "# График функции потерь\n",
        "plt.subplot(1, 2, 1)\n",
        "plt.plot(range(1, num_epochs+1), train_losses, label='Training Loss')\n",
        "plt.xlabel('Epoch')\n",
        "plt.ylabel('Loss')\n",
        "plt.title('Training Loss per Epoch')\n",
        "plt.legend()\n",
        "\n",
        "# График accuracy\n",
        "plt.subplot(1, 2, 2)\n",
        "plt.plot(range(1, num_epochs+1), train_accuracies, label='Train Accuracy')\n",
        "plt.plot(range(1, num_epochs+1), test_accuracies, label='Test Accuracy')\n",
        "plt.xlabel('Epoch')\n",
        "plt.ylabel('Accuracy')\n",
        "plt.title('Accuracy per Epoch')\n",
        "plt.legend()\n",
        "\n",
        "plt.show()"
      ],
      "metadata": {
        "execution": {
          "iopub.status.busy": "2024-10-27T15:04:18.723635Z",
          "iopub.execute_input": "2024-10-27T15:04:18.724019Z",
          "iopub.status.idle": "2024-10-27T15:04:19.237184Z",
          "shell.execute_reply.started": "2024-10-27T15:04:18.723983Z",
          "shell.execute_reply": "2024-10-27T15:04:19.236186Z"
        },
        "trusted": true,
        "id": "ODvgxE-lp0_W",
        "outputId": "2aaa6999-2562-46be-a210-ac6e3dd27f54"
      },
      "execution_count": null,
      "outputs": [
        {
          "output_type": "display_data",
          "data": {
            "text/plain": "<Figure size 1200x500 with 2 Axes>",
            "image/png": "[encoded data removed]"
          },
          "metadata": {}
        }
      ],
      "id": "ODvgxE-lp0_W"
    },
    {
      "cell_type": "code",
      "source": [
        "print(f\"Final Train Accuracy: {train_accuracies[-1]:.4f}\")\n",
        "print(f\"Final Test Accuracy: {test_accuracies[-1]:.4f}\")"
      ],
      "metadata": {
        "execution": {
          "iopub.status.busy": "2024-10-27T15:04:43.056435Z",
          "iopub.execute_input": "2024-10-27T15:04:43.056856Z",
          "iopub.status.idle": "2024-10-27T15:04:43.061768Z",
          "shell.execute_reply.started": "2024-10-27T15:04:43.056804Z",
          "shell.execute_reply": "2024-10-27T15:04:43.060742Z"
        },
        "trusted": true,
        "id": "QscYRi33p0_W",
        "outputId": "367d22d6-fb53-4b9a-a24e-455c47de440b"
      },
      "execution_count": null,
      "outputs": [
        {
          "name": "stdout",
          "text": "Final Train Accuracy: 0.8153\nFinal Test Accuracy: 0.7800\n",
          "output_type": "stream"
        }
      ],
      "id": "QscYRi33p0_W"
    },
    {
      "cell_type": "code",
      "source": [],
      "metadata": {
        "id": "-O3w4zD1p0_X"
      },
      "execution_count": null,
      "outputs": [],
      "id": "-O3w4zD1p0_X"
    },
    {
      "cell_type": "code",
      "source": [],
      "metadata": {
        "id": "laGv5Jlwp0_X"
      },
      "execution_count": null,
      "outputs": [],
      "id": "laGv5Jlwp0_X"
    },
    {
      "cell_type": "code",
      "source": [],
      "metadata": {
        "id": "cwkeW1ajp0_X"
      },
      "execution_count": null,
      "outputs": [],
      "id": "cwkeW1ajp0_X"
    },
    {
      "cell_type": "code",
      "source": [],
      "metadata": {
        "id": "hBIpZ7D2p0_X"
      },
      "execution_count": null,
      "outputs": [],
      "id": "hBIpZ7D2p0_X"
    },
    {
      "cell_type": "markdown",
      "source": [
        "<p class=\"task\" id=\"4\"></p>\n",
        "\n",
        "4\\. Повторите решение предыдущей задачи, заморозив все сверточные слои, кроме последнего (слои классификатора не замораживайте). Сравните качество полученного решения и решения из предыдущей задачи, а также время, затраченное на обучения моделей. Перед началом работы создайте модель заново.\n",
        "\n",
        "- [ ] Проверено на семинаре"
      ],
      "metadata": {
        "id": "3GWSc29Wp0_X"
      },
      "id": "3GWSc29Wp0_X"
    },
    {
      "cell_type": "code",
      "source": [
        "vgg16 = models.vgg16(weights=VGG16_Weights.IMAGENET1K_V1)\n",
        "\n",
        "for name, param in vgg16.features.named_parameters():\n",
        "    if \"29\" not in name:  # Последний сверточный слой VGG16 находится на индексе 29\n",
        "        param.requires_grad = False"
      ],
      "metadata": {
        "execution": {
          "iopub.status.busy": "2024-10-27T15:05:33.882867Z",
          "iopub.execute_input": "2024-10-27T15:05:33.883508Z",
          "iopub.status.idle": "2024-10-27T15:05:35.338443Z",
          "shell.execute_reply.started": "2024-10-27T15:05:33.883469Z",
          "shell.execute_reply": "2024-10-27T15:05:35.337619Z"
        },
        "trusted": true,
        "id": "c9lyW5aXp0_X"
      },
      "execution_count": null,
      "outputs": [],
      "id": "c9lyW5aXp0_X"
    },
    {
      "cell_type": "code",
      "source": [
        "vgg16.classifier[6] = nn.Linear(vgg16.classifier[6].in_features, num_classes)"
      ],
      "metadata": {
        "execution": {
          "iopub.status.busy": "2024-10-27T15:05:48.807210Z",
          "iopub.execute_input": "2024-10-27T15:05:48.807602Z",
          "iopub.status.idle": "2024-10-27T15:05:48.812870Z",
          "shell.execute_reply.started": "2024-10-27T15:05:48.807556Z",
          "shell.execute_reply": "2024-10-27T15:05:48.811912Z"
        },
        "trusted": true,
        "id": "mlCxpKftp0_Y"
      },
      "execution_count": null,
      "outputs": [],
      "id": "mlCxpKftp0_Y"
    },
    {
      "cell_type": "code",
      "source": [
        "trainable_params = sum(p.numel() for p in vgg16.parameters() if p.requires_grad)\n",
        "print(\"Trainable parameters with last conv layer unfrozen:\", trainable_params)"
      ],
      "metadata": {
        "execution": {
          "iopub.status.busy": "2024-10-27T15:06:00.211385Z",
          "iopub.execute_input": "2024-10-27T15:06:00.211756Z",
          "iopub.status.idle": "2024-10-27T15:06:00.217144Z",
          "shell.execute_reply.started": "2024-10-27T15:06:00.211722Z",
          "shell.execute_reply": "2024-10-27T15:06:00.216196Z"
        },
        "trusted": true,
        "id": "Ithd_XDBp0_Y",
        "outputId": "861ef8aa-333c-436e-e731-5485b21366df"
      },
      "execution_count": null,
      "outputs": [
        {
          "name": "stdout",
          "text": "Trainable parameters with last conv layer unfrozen: 119562244\n",
          "output_type": "stream"
        }
      ],
      "id": "Ithd_XDBp0_Y"
    },
    {
      "cell_type": "code",
      "source": [
        "vgg16.to(device)\n",
        "\n",
        "# Определяем функцию потерь и оптимизатор (оптимизатор обновляет классификатор и последний сверточный слой)\n",
        "criterion = nn.CrossEntropyLoss()\n",
        "optimizer = optim.Adam(filter(lambda p: p.requires_grad, vgg16.parameters()), lr=0.001)\n",
        "\n",
        "# Обучение модели\n",
        "num_epochs = 10\n",
        "train_losses = []\n",
        "train_accuracies = []\n",
        "test_accuracies = []\n",
        "\n",
        "start_time = time.time()\n",
        "\n",
        "for epoch in range(num_epochs):\n",
        "    vgg16.train()\n",
        "    running_loss = 0.0\n",
        "    correct_train = 0\n",
        "    total_train = 0\n",
        "\n",
        "    # Обучающая фаза\n",
        "    for images, labels in train_loader:\n",
        "        images, labels = images.to(device), labels.to(device)\n",
        "\n",
        "        optimizer.zero_grad()\n",
        "        outputs = vgg16(images)\n",
        "        loss = criterion(outputs, labels)\n",
        "        loss.backward()\n",
        "        optimizer.step()\n",
        "\n",
        "        running_loss += loss.item()\n",
        "        _, predicted = torch.max(outputs, 1)\n",
        "        correct_train += (predicted == labels).sum().item()\n",
        "        total_train += labels.size(0)\n",
        "\n",
        "    train_loss = running_loss / len(train_loader)\n",
        "    train_accuracy = correct_train / total_train\n",
        "    train_losses.append(train_loss)\n",
        "    train_accuracies.append(train_accuracy)\n",
        "\n",
        "    # Тестовая фаза\n",
        "    vgg16.eval()\n",
        "    correct_test = 0\n",
        "    total_test = 0\n",
        "    with torch.no_grad():\n",
        "        for images, labels in test_loader:\n",
        "            images, labels = images.to(device), labels.to(device)\n",
        "            outputs = vgg16(images)\n",
        "            _, predicted = torch.max(outputs, 1)\n",
        "            correct_test += (predicted == labels).sum().item()\n",
        "            total_test += labels.size(0)\n",
        "\n",
        "    test_accuracy = correct_test / total_test\n",
        "    test_accuracies.append(test_accuracy)\n",
        "\n",
        "    print(f\"Epoch [{epoch + 1}/{num_epochs}], Loss: {train_loss:.4f}, \"\n",
        "          f\"Train Accuracy: {train_accuracy:.4f}, Test Accuracy: {test_accuracy:.4f}\")\n",
        "\n",
        "end_time = time.time()\n",
        "training_time = end_time - start_time"
      ],
      "metadata": {
        "execution": {
          "iopub.status.busy": "2024-10-27T15:06:28.749047Z",
          "iopub.execute_input": "2024-10-27T15:06:28.749886Z",
          "iopub.status.idle": "2024-10-27T15:12:08.701852Z",
          "shell.execute_reply.started": "2024-10-27T15:06:28.749844Z",
          "shell.execute_reply": "2024-10-27T15:12:08.700841Z"
        },
        "trusted": true,
        "id": "NjCPGiDkp0_Y",
        "outputId": "8b4380f7-322b-4e1d-d4dc-a137f5ae1335"
      },
      "execution_count": null,
      "outputs": [
        {
          "name": "stdout",
          "text": "Epoch [1/10], Loss: 1.0673, Train Accuracy: 0.6353, Test Accuracy: 0.7775\nEpoch [2/10], Loss: 0.7062, Train Accuracy: 0.7828, Test Accuracy: 0.7700\nEpoch [3/10], Loss: 0.5667, Train Accuracy: 0.8428, Test Accuracy: 0.7412\nEpoch [4/10], Loss: 0.7126, Train Accuracy: 0.8475, Test Accuracy: 0.7612\nEpoch [5/10], Loss: 0.7046, Train Accuracy: 0.8834, Test Accuracy: 0.7937\nEpoch [6/10], Loss: 0.6261, Train Accuracy: 0.9009, Test Accuracy: 0.7712\nEpoch [7/10], Loss: 0.4449, Train Accuracy: 0.9337, Test Accuracy: 0.7900\nEpoch [8/10], Loss: 0.6919, Train Accuracy: 0.9347, Test Accuracy: 0.7512\nEpoch [9/10], Loss: 0.9700, Train Accuracy: 0.9178, Test Accuracy: 0.7512\nEpoch [10/10], Loss: 1.6096, Train Accuracy: 0.9116, Test Accuracy: 0.7837\n",
          "output_type": "stream"
        }
      ],
      "id": "NjCPGiDkp0_Y"
    },
    {
      "cell_type": "code",
      "source": [
        "plt.figure(figsize=(12, 5))\n",
        "\n",
        "# График функции потерь\n",
        "plt.subplot(1, 2, 1)\n",
        "plt.plot(range(1, num_epochs+1), train_losses, label='Training Loss')\n",
        "plt.xlabel('Epoch')\n",
        "plt.ylabel('Loss')\n",
        "plt.title('Training Loss per Epoch')\n",
        "plt.legend()\n",
        "\n",
        "# График accuracy\n",
        "plt.subplot(1, 2, 2)\n",
        "plt.plot(range(1, num_epochs+1), train_accuracies, label='Train Accuracy')\n",
        "plt.plot(range(1, num_epochs+1), test_accuracies, label='Test Accuracy')\n",
        "plt.xlabel('Epoch')\n",
        "plt.ylabel('Accuracy')\n",
        "plt.title('Accuracy per Epoch')\n",
        "plt.legend()\n",
        "\n",
        "plt.show()"
      ],
      "metadata": {
        "execution": {
          "iopub.status.busy": "2024-10-27T15:12:21.013829Z",
          "iopub.execute_input": "2024-10-27T15:12:21.014649Z",
          "iopub.status.idle": "2024-10-27T15:12:21.421886Z",
          "shell.execute_reply.started": "2024-10-27T15:12:21.014606Z",
          "shell.execute_reply": "2024-10-27T15:12:21.420935Z"
        },
        "trusted": true,
        "id": "teW9lUQ1p0_Y",
        "outputId": "694a075a-a1a9-483b-d56c-e3485493af3f"
      },
      "execution_count": null,
      "outputs": [
        {
          "output_type": "display_data",
          "data": {
            "text/plain": "<Figure size 1200x500 with 2 Axes>",
            "image/png": "[encoded data removed]"
          },
          "metadata": {}
        }
      ],
      "id": "teW9lUQ1p0_Y"
    },
    {
      "cell_type": "code",
      "source": [
        "print(f\"Final Train Accuracy: {train_accuracies[-1]:.4f}\")\n",
        "print(f\"Final Test Accuracy: {test_accuracies[-1]:.4f}\")\n",
        "print(f\"Training Time: {training_time:.2f} seconds\")"
      ],
      "metadata": {
        "execution": {
          "iopub.status.busy": "2024-10-27T15:12:35.147425Z",
          "iopub.execute_input": "2024-10-27T15:12:35.147815Z",
          "iopub.status.idle": "2024-10-27T15:12:35.153129Z",
          "shell.execute_reply.started": "2024-10-27T15:12:35.147779Z",
          "shell.execute_reply": "2024-10-27T15:12:35.152127Z"
        },
        "trusted": true,
        "id": "eW0uBCS_p0_Y",
        "outputId": "3422ccdb-ffab-4b9d-a267-e08a15e12509"
      },
      "execution_count": null,
      "outputs": [
        {
          "name": "stdout",
          "text": "Final Train Accuracy: 0.9116\nFinal Test Accuracy: 0.7837\nTraining Time: 339.79 seconds\n",
          "output_type": "stream"
        }
      ],
      "id": "eW0uBCS_p0_Y"
    },
    {
      "cell_type": "markdown",
      "source": [
        "Выводы\n",
        "\n",
        "1)Точность на обучающей выборке для модели в 4-й задаче оказалась выше (91.16% против 81.53%). Это связано с тем, что модель с размороженным последним сверточным слоем и классификатором лучше адаптировалась под тренировочные данные.\n",
        "\n",
        "2)Точность на тестовой выборке в обеих задачах схожа, но модель из 3-й задачи показала более стабильные результаты, что может говорить о лучшей обобщающей способности. Это связано с тем, что в модели 4-й задачи, несмотря на улучшение на обучающей выборке, началось переобучение, из-за чего точность на тестовой выборке не сильно улучшилась."
      ],
      "metadata": {
        "id": "gERCxxhdp0_Y"
      },
      "id": "gERCxxhdp0_Y"
    },
    {
      "cell_type": "code",
      "source": [],
      "metadata": {
        "id": "c5lDLD0Lp0_c"
      },
      "execution_count": null,
      "outputs": [],
      "id": "c5lDLD0Lp0_c"
    },
    {
      "cell_type": "code",
      "source": [],
      "metadata": {
        "id": "e57u_ODWp0_d"
      },
      "execution_count": null,
      "outputs": [],
      "id": "e57u_ODWp0_d"
    },
    {
      "cell_type": "markdown",
      "source": [
        "<p class=\"task\" id=\"5\"></p>\n",
        "\n",
        "5\\. Повторите решение задачи 3, расширив обучающий набор данных при помощи преобразований из `torchvision`, изменяющих изображение (повороты, изменение интенсивности пикселей, обрезание и т.д.). При оценке модели на тестовой выборке данные преобразования применяться не должны. Решение о том, сколько и каких слоев модели будет обучаться, примите самостоятельно. Перед началом работы создайте модель заново.\n",
        "\n",
        "- [ ] Проверено на семинаре"
      ],
      "metadata": {
        "id": "ltGAGEEnp0_d"
      },
      "id": "ltGAGEEnp0_d"
    },
    {
      "cell_type": "code",
      "source": [
        "vgg16 = models.vgg16(weights=models.VGG16_Weights.IMAGENET1K_V1).to(device)\n",
        "\n",
        "# Замораживаем все сверточные слои\n",
        "for param in vgg16.features.parameters():\n",
        "    param.requires_grad = False"
      ],
      "metadata": {
        "execution": {
          "iopub.status.busy": "2024-10-27T15:19:39.647823Z",
          "iopub.execute_input": "2024-10-27T15:19:39.648588Z",
          "iopub.status.idle": "2024-10-27T15:19:41.248214Z",
          "shell.execute_reply.started": "2024-10-27T15:19:39.648545Z",
          "shell.execute_reply": "2024-10-27T15:19:41.247174Z"
        },
        "trusted": true,
        "id": "gBCN__TFp0_d"
      },
      "execution_count": null,
      "outputs": [],
      "id": "gBCN__TFp0_d"
    },
    {
      "cell_type": "code",
      "source": [
        "num_features = vgg16.classifier[6].in_features\n",
        "vgg16.classifier[6] = nn.Linear(num_features, num_classes).to(device)"
      ],
      "metadata": {
        "execution": {
          "iopub.status.busy": "2024-10-27T15:19:52.467434Z",
          "iopub.execute_input": "2024-10-27T15:19:52.468104Z",
          "iopub.status.idle": "2024-10-27T15:19:52.473270Z",
          "shell.execute_reply.started": "2024-10-27T15:19:52.468065Z",
          "shell.execute_reply": "2024-10-27T15:19:52.472376Z"
        },
        "trusted": true,
        "id": "hTMCSzBmp0_d"
      },
      "execution_count": null,
      "outputs": [],
      "id": "hTMCSzBmp0_d"
    },
    {
      "cell_type": "code",
      "source": [
        "train_transform = transforms.Compose([\n",
        "    transforms.Resize((256, 256)),\n",
        "    transforms.RandomRotation(20),\n",
        "    transforms.ColorJitter(brightness=0.2, contrast=0.2, saturation=0.2, hue=0.2),\n",
        "    transforms.RandomResizedCrop(224),\n",
        "    transforms.RandomHorizontalFlip(),\n",
        "    transforms.ToTensor(),\n",
        "    transforms.Normalize(mean=(0.485, 0.456, 0.406), std=(0.229, 0.224, 0.225))\n",
        "])\n",
        "\n",
        "test_transform = models.VGG16_Weights.IMAGENET1K_V1.transforms()"
      ],
      "metadata": {
        "execution": {
          "iopub.status.busy": "2024-10-27T15:19:58.587375Z",
          "iopub.execute_input": "2024-10-27T15:19:58.587779Z",
          "iopub.status.idle": "2024-10-27T15:19:58.594427Z",
          "shell.execute_reply.started": "2024-10-27T15:19:58.587742Z",
          "shell.execute_reply": "2024-10-27T15:19:58.593298Z"
        },
        "trusted": true,
        "id": "KRKikhFKp0_d"
      },
      "execution_count": null,
      "outputs": [],
      "id": "KRKikhFKp0_d"
    },
    {
      "cell_type": "code",
      "source": [
        "dataset = datasets.ImageFolder(data_dir)\n",
        "train_size = int(0.8 * len(dataset))\n",
        "test_size = len(dataset) - train_size\n",
        "train_dataset, test_dataset = random_split(dataset, [train_size, test_size])\n",
        "train_dataset.dataset.transform = train_transform\n",
        "test_dataset.dataset.transform = test_transform"
      ],
      "metadata": {
        "execution": {
          "iopub.status.busy": "2024-10-27T15:20:07.127289Z",
          "iopub.execute_input": "2024-10-27T15:20:07.128182Z",
          "iopub.status.idle": "2024-10-27T15:20:07.593281Z",
          "shell.execute_reply.started": "2024-10-27T15:20:07.128118Z",
          "shell.execute_reply": "2024-10-27T15:20:07.592305Z"
        },
        "trusted": true,
        "id": "PNnQEScrp0_d"
      },
      "execution_count": null,
      "outputs": [],
      "id": "PNnQEScrp0_d"
    },
    {
      "cell_type": "code",
      "source": [
        "train_loader = DataLoader(train_dataset, batch_size=32, shuffle=True)\n",
        "test_loader = DataLoader(test_dataset, batch_size=32, shuffle=False)"
      ],
      "metadata": {
        "execution": {
          "iopub.status.busy": "2024-10-27T15:20:08.639108Z",
          "iopub.execute_input": "2024-10-27T15:20:08.639710Z",
          "iopub.status.idle": "2024-10-27T15:20:08.644479Z",
          "shell.execute_reply.started": "2024-10-27T15:20:08.639668Z",
          "shell.execute_reply": "2024-10-27T15:20:08.643424Z"
        },
        "trusted": true,
        "id": "qdzLX91wp0_d"
      },
      "execution_count": null,
      "outputs": [],
      "id": "qdzLX91wp0_d"
    },
    {
      "cell_type": "code",
      "source": [
        "criterion = nn.CrossEntropyLoss()\n",
        "optimizer = optim.Adam(vgg16.classifier[6].parameters(), lr=0.001)\n",
        "\n",
        "num_epochs = 10\n",
        "train_acc_history, test_acc_history = [], []\n",
        "loss_history = []\n",
        "\n",
        "for epoch in range(num_epochs):\n",
        "    vgg16.train()\n",
        "    running_loss = 0.0\n",
        "    correct_train = 0\n",
        "    total_train = 0\n",
        "\n",
        "    # Цикл обучения на обучающем наборе\n",
        "    for images, labels in train_loader:\n",
        "        images, labels = images.to(device), labels.to(device)\n",
        "        optimizer.zero_grad()\n",
        "        outputs = vgg16(images)\n",
        "        loss = criterion(outputs, labels)\n",
        "        loss.backward()\n",
        "        optimizer.step()\n",
        "\n",
        "        running_loss += loss.item() * images.size(0)\n",
        "        _, predicted = torch.max(outputs, 1)\n",
        "        correct_train += (predicted == labels).sum().item()\n",
        "        total_train += labels.size(0)\n",
        "\n",
        "    # Вычисляем метрики после эпохи\n",
        "    train_accuracy = correct_train / total_train\n",
        "    train_acc_history.append(train_accuracy)\n",
        "    loss_history.append(running_loss / total_train)\n",
        "\n",
        "    # Оценка на тестовом наборе\n",
        "    vgg16.eval()\n",
        "    correct_test = 0\n",
        "    total_test = 0\n",
        "    with torch.no_grad():\n",
        "        for images, labels in test_loader:\n",
        "            images, labels = images.to(device), labels.to(device)\n",
        "            outputs = vgg16(images)\n",
        "            _, predicted = torch.max(outputs, 1)\n",
        "            correct_test += (predicted == labels).sum().item()\n",
        "            total_test += labels.size(0)\n",
        "\n",
        "    test_accuracy = correct_test / total_test\n",
        "    test_acc_history.append(test_accuracy)\n",
        "\n",
        "    print(f'Epoch [{epoch+1}/{num_epochs}], Loss: {running_loss / total_train:.4f}, '\n",
        "          f'Train Accuracy: {train_accuracy:.4f}, Test Accuracy: {test_accuracy:.4f}')\n"
      ],
      "metadata": {
        "execution": {
          "iopub.status.busy": "2024-10-27T15:20:42.296717Z",
          "iopub.execute_input": "2024-10-27T15:20:42.297151Z",
          "iopub.status.idle": "2024-10-27T15:26:04.106889Z",
          "shell.execute_reply.started": "2024-10-27T15:20:42.297111Z",
          "shell.execute_reply": "2024-10-27T15:26:04.105877Z"
        },
        "trusted": true,
        "id": "srusOyrJp0_e",
        "outputId": "991b8852-b9dc-4f67-bc1a-41f78abac0c4"
      },
      "execution_count": null,
      "outputs": [
        {
          "name": "stdout",
          "text": "Epoch [1/10], Loss: 0.6739, Train Accuracy: 0.7303, Test Accuracy: 0.7863\nEpoch [2/10], Loss: 0.5445, Train Accuracy: 0.7784, Test Accuracy: 0.8013\nEpoch [3/10], Loss: 0.5161, Train Accuracy: 0.7959, Test Accuracy: 0.8013\nEpoch [4/10], Loss: 0.4843, Train Accuracy: 0.8041, Test Accuracy: 0.8037\nEpoch [5/10], Loss: 0.4914, Train Accuracy: 0.7987, Test Accuracy: 0.7887\nEpoch [6/10], Loss: 0.4588, Train Accuracy: 0.8137, Test Accuracy: 0.8025\nEpoch [7/10], Loss: 0.4602, Train Accuracy: 0.8169, Test Accuracy: 0.8013\nEpoch [8/10], Loss: 0.4512, Train Accuracy: 0.8137, Test Accuracy: 0.7913\nEpoch [9/10], Loss: 0.4611, Train Accuracy: 0.8194, Test Accuracy: 0.7900\nEpoch [10/10], Loss: 0.4355, Train Accuracy: 0.8287, Test Accuracy: 0.8075\n",
          "output_type": "stream"
        }
      ],
      "id": "srusOyrJp0_e"
    },
    {
      "cell_type": "code",
      "source": [
        "plt.figure(figsize=(12, 5))\n",
        "\n",
        "# График функции потерь\n",
        "plt.subplot(1, 2, 1)\n",
        "plt.plot(range(1, num_epochs+1), loss_history, label='Training Loss')\n",
        "plt.xlabel('Epoch')\n",
        "plt.ylabel('Loss')\n",
        "plt.title('Training Loss per Epoch')\n",
        "plt.legend()\n",
        "\n",
        "# График accuracy\n",
        "plt.subplot(1, 2, 2)\n",
        "plt.plot(range(1, num_epochs+1), train_acc_history, label='Train Accuracy')\n",
        "plt.plot(range(1, num_epochs+1), test_acc_history, label='Test Accuracy')\n",
        "plt.xlabel('Epoch')\n",
        "plt.ylabel('Accuracy')\n",
        "plt.title('Accuracy per Epoch')\n",
        "plt.legend()\n",
        "\n",
        "plt.show()"
      ],
      "metadata": {
        "execution": {
          "iopub.status.busy": "2024-10-27T15:26:23.323770Z",
          "iopub.execute_input": "2024-10-27T15:26:23.324552Z",
          "iopub.status.idle": "2024-10-27T15:26:23.705052Z",
          "shell.execute_reply.started": "2024-10-27T15:26:23.324511Z",
          "shell.execute_reply": "2024-10-27T15:26:23.704065Z"
        },
        "trusted": true,
        "id": "ykbKip0Pp0_e",
        "outputId": "cda4d116-bbde-4411-bf22-7b97ded7bc96"
      },
      "execution_count": null,
      "outputs": [
        {
          "output_type": "display_data",
          "data": {
            "text/plain": "<Figure size 1200x500 with 2 Axes>",
            "image/png": "[encoded data removed]"
          },
          "metadata": {}
        }
      ],
      "id": "ykbKip0Pp0_e"
    },
    {
      "cell_type": "code",
      "source": [
        "print(f\"Final Train Accuracy: {train_acc_history[-1]:.4f}\")\n",
        "print(f\"Final Test Accuracy: {test_acc_history[-1]:.4f}\")"
      ],
      "metadata": {
        "execution": {
          "iopub.status.busy": "2024-10-27T15:41:09.433197Z",
          "iopub.execute_input": "2024-10-27T15:41:09.433712Z",
          "iopub.status.idle": "2024-10-27T15:41:09.438832Z",
          "shell.execute_reply.started": "2024-10-27T15:41:09.433669Z",
          "shell.execute_reply": "2024-10-27T15:41:09.437944Z"
        },
        "trusted": true,
        "id": "bxbdIAjAp0_e",
        "outputId": "1482a8f1-10b7-4be3-f953-edf0ddf4f69a"
      },
      "execution_count": null,
      "outputs": [
        {
          "name": "stdout",
          "text": "Final Train Accuracy: 0.8287\nFinal Test Accuracy: 0.8075\n",
          "output_type": "stream"
        }
      ],
      "id": "bxbdIAjAp0_e"
    },
    {
      "cell_type": "markdown",
      "source": [
        "Модель с применением аугментации и обучением классификатора показала стабильные результаты. На протяжении 10 эпох наблюдался рост точности на обучающем наборе данных, при этом точность на тестовом наборе оставалась относительно постоянной, с небольшими колебаниями."
      ],
      "metadata": {
        "id": "0Qy_UMGIp0_e"
      },
      "id": "0Qy_UMGIp0_e"
    },
    {
      "cell_type": "markdown",
      "source": [
        "Выводы:\n",
        "\n",
        "Точность обучения: Точность на обучающем наборе возросла с 73% до 82.87%, что свидетельствует о хорошем обучении классификатора с использованием аугментаций, которые помогли модели лучше обобщить на новых данных.\n",
        "\n",
        "Точность на тестовой выборке: На тестовом наборе точность также увеличилась, достигнув 80.75%, что указывает на устойчивость модели к новым данным, хотя и с небольшим отставанием от обучающей выборки.\n",
        "\n",
        "Снижение функции потерь: Значение функции потерь постепенно уменьшалось, показывая, что модель эффективно минимизировала ошибки классификации.\n",
        "Аугментации помогли улучшить устойчивость модели и предотвратили сильное переобучение, обеспечив баланс между точностью на обучающем и тестовом наборах."
      ],
      "metadata": {
        "id": "aK6c07ZAp0_e"
      },
      "id": "aK6c07ZAp0_e"
    },
    {
      "cell_type": "code",
      "source": [],
      "metadata": {
        "id": "zMtVNqhRp0_f"
      },
      "execution_count": null,
      "outputs": [],
      "id": "zMtVNqhRp0_f"
    },
    {
      "cell_type": "markdown",
      "source": [
        "## Обратная связь\n",
        "- [ ] Хочу получить обратную связь по решению"
      ],
      "metadata": {
        "id": "2C8-sqntp0_f"
      },
      "id": "2C8-sqntp0_f"
    }
  ]
}