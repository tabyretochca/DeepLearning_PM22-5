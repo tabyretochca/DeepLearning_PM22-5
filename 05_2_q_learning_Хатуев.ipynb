{
  "cells": [
    {
      "cell_type": "markdown",
      "id": "3a564d5f",
      "metadata": {
        "id": "3a564d5f"
      },
      "source": [
        "#  Q-learning\n",
        "\n",
        "__Автор задач: Блохин Н.В. (NVBlokhin@fa.ru)__\n",
        "\n",
        "Материалы:\n",
        "* Саттон Р.\tС.,\tБарто Э. Дж. Обучение с подкреплением: Введение. 2-е изд.\n",
        "* https://gymnasium.farama.org/tutorials/training_agents/blackjack_tutorial/\n",
        "* https://en.wikipedia.org/wiki/Q-learning\n",
        "* https://www.baeldung.com/cs/epsilon-greedy-q-learning\n",
        "* https://pythonprogramming.net/q-learning-reinforcement-learning-python-tutorial/\n",
        "* https://www.datacamp.com/tutorial/introduction-q-learning-beginner-tutorial\n",
        "* https://rubikscode.net/2021/07/20/introduction-to-double-q-learning/\n",
        "* https://gymnasium.farama.org/api/wrappers/misc_wrappers/#gymnasium.wrappers.RecordVideo"
      ]
    },
    {
      "cell_type": "markdown",
      "id": "c9ecd663",
      "metadata": {
        "id": "c9ecd663"
      },
      "source": [
        "## Задачи для совместного разбора"
      ]
    },
    {
      "cell_type": "markdown",
      "id": "d82e2a26",
      "metadata": {
        "id": "d82e2a26"
      },
      "source": [
        "1\\. Рассмотрите понятие Q-функции, ее применение для формирования политики агента и способов ее создания."
      ]
    },
    {
      "cell_type": "markdown",
      "id": "4d7b6d63",
      "metadata": {
        "id": "4d7b6d63"
      },
      "source": [
        "## Задачи для самостоятельного решения"
      ]
    },
    {
      "cell_type": "markdown",
      "id": "7f49190d",
      "metadata": {
        "id": "7f49190d"
      },
      "source": [
        "<p class=\"task\" id=\"1\"></p>\n",
        "\n",
        "1\\. Обучите агента для игры в блэкджек (окружение `Blackjack-v1`), используя алгоритм Q-learning. Для создания таблицы Q-функции выясните размеры пространства состояния игры и количество возможных действий игрока и выведите эти значения на экран. Во время обучения несколько раз вычислите статистику за `print_every` последних эпизодов: количество выигранных и проигранных сессий. После завершения обучения визуализируйте полученные данные. Изучите, как выглядит Q-функция (в каких состояниях игрок будет брать карту, в каких - нет). Cыграйте `N=10000` игр, применяя стратегию, выведенную из обученной Q-функции, посчитайте и выведите на экран долю выигранных игр.\n",
        "\n",
        "Cтратегия для выбора действия:\n",
        "$$a_{t+1}(s_t) = argmax_aQ(s_t, a)$$\n",
        "\n",
        "Правило обновления Q-функции:\n",
        "\n",
        "![q-learning](https://wikimedia.org/api/rest_v1/media/math/render/svg/d247db9eaad4bd343e7882ec546bf3847ebd36d8)\n",
        "\n",
        "- [ ] Проверено на семинаре"
      ]
    },
    {
      "cell_type": "code",
      "source": [
        "!pip install gymnasium"
      ],
      "metadata": {
        "colab": {
          "base_uri": "https://localhost:8080/"
        },
        "id": "NqXtqWMXOONZ",
        "outputId": "2b72715e-1b95-4abb-c3fb-220d61719e8e"
      },
      "id": "NqXtqWMXOONZ",
      "execution_count": 3,
      "outputs": [
        {
          "output_type": "stream",
          "name": "stdout",
          "text": [
            "Collecting gymnasium\n",
            "  Downloading gymnasium-1.0.0-py3-none-any.whl.metadata (9.5 kB)\n",
            "Requirement already satisfied: numpy>=1.21.0 in /usr/local/lib/python3.10/dist-packages (from gymnasium) (1.26.4)\n",
            "Requirement already satisfied: cloudpickle>=1.2.0 in /usr/local/lib/python3.10/dist-packages (from gymnasium) (3.1.0)\n",
            "Requirement already satisfied: typing-extensions>=4.3.0 in /usr/local/lib/python3.10/dist-packages (from gymnasium) (4.12.2)\n",
            "Collecting farama-notifications>=0.0.1 (from gymnasium)\n",
            "  Downloading Farama_Notifications-0.0.4-py3-none-any.whl.metadata (558 bytes)\n",
            "Downloading gymnasium-1.0.0-py3-none-any.whl (958 kB)\n",
            "\u001b[2K   \u001b[90m━━━━━━━━━━━━━━━━━━━━━━━━━━━━━━━━━━━━━━━━\u001b[0m \u001b[32m958.1/958.1 kB\u001b[0m \u001b[31m11.1 MB/s\u001b[0m eta \u001b[36m0:00:00\u001b[0m\n",
            "\u001b[?25hDownloading Farama_Notifications-0.0.4-py3-none-any.whl (2.5 kB)\n",
            "Installing collected packages: farama-notifications, gymnasium\n",
            "Successfully installed farama-notifications-0.0.4 gymnasium-1.0.0\n"
          ]
        }
      ]
    },
    {
      "cell_type": "code",
      "execution_count": 1,
      "id": "bd0ba256",
      "metadata": {
        "id": "bd0ba256"
      },
      "outputs": [],
      "source": [
        "from dataclasses import dataclass\n",
        "\n",
        "@dataclass\n",
        "class Config:\n",
        "    discount: float = 0.95\n",
        "    lr: float = 0.005\n",
        "    n_episodes: float = 100_000\n",
        "    print_every: int = 5000"
      ]
    },
    {
      "cell_type": "code",
      "execution_count": 4,
      "id": "4ba6b041",
      "metadata": {
        "id": "4ba6b041"
      },
      "outputs": [],
      "source": [
        "import gymnasium as gym\n",
        "import numpy as np\n",
        "from tqdm import tqdm\n",
        "\n",
        "class Agent:\n",
        "    def __init__(self, env: gym.Env, config: Config) -> None:\n",
        "        self.env = env\n",
        "        self.cfg = config\n",
        "        self._create_q_table()\n",
        "\n",
        "    def _create_q_table(self):\n",
        "        self.q_table = np.zeros((32, 11, 2, 2))\n",
        "\n",
        "    def get_action(self, state: np.ndarray) -> int:\n",
        "        \"\"\"Выбор действия для текущего состояния\"\"\"\n",
        "        player_sum, dealer_card, usable_ace = state\n",
        "        player_sum = min(player_sum, 32) - 1\n",
        "        dealer_card = dealer_card - 1\n",
        "        usable_ace = int(usable_ace)\n",
        "\n",
        "        # Жадное действие с учетом случайного выбора при равенстве Q\n",
        "        return np.argmax(self.q_table[player_sum, dealer_card, usable_ace, :])\n",
        "\n",
        "    def update_q_table(self, state: np.ndarray | tuple, new_state: np.ndarray | tuple, reward: float, action: int, done: bool) -> None:\n",
        "        player_sum, dealer_card, usable_ace = state\n",
        "        player_sum = min(player_sum, 32) - 1\n",
        "        dealer_card = dealer_card - 1\n",
        "        usable_ace = int(usable_ace)\n",
        "\n",
        "        new_player_sum, new_dealer_card, new_usable_ace = new_state if not done else (0, 0, 0)\n",
        "        new_player_sum = min(new_player_sum, 32) - 1 if not done else 0\n",
        "        new_dealer_card = new_dealer_card - 1 if not done else 0\n",
        "        new_usable_ace = int(new_usable_ace) if not done else 0\n",
        "\n",
        "        future_reward = 0 if done else np.max(self.q_table[new_player_sum, new_dealer_card, new_usable_ace, :])\n",
        "        target = reward + self.cfg.discount * future_reward\n",
        "\n",
        "        self.q_table[player_sum, dealer_card, usable_ace, action] += self.cfg.lr * (\n",
        "            target - self.q_table[player_sum, dealer_card, usable_ace, action]\n",
        "        )\n",
        "\n",
        "    def run_episode(self) -> float:\n",
        "        done = False\n",
        "        state, info = self.env.reset()\n",
        "        while not done:\n",
        "            action = self.get_action(state)\n",
        "            new_state, reward, terminated, truncated, info = self.env.step(action)\n",
        "            done = terminated or truncated\n",
        "            self.update_q_table(state, new_state, reward, action, done)\n",
        "            state = new_state\n",
        "\n",
        "            if done:\n",
        "                return reward\n",
        "\n",
        "\n",
        "    def train(self):\n",
        "        ep_rewards = []\n",
        "        stats = []\n",
        "\n",
        "        for ep in tqdm(range(1, self.cfg.n_episodes + 1)):\n",
        "            reward = self.run_episode()\n",
        "            ep_rewards.append(reward)\n",
        "\n",
        "            if ep % self.cfg.print_every == 0:\n",
        "                win_rate = sum(r > 0 for r in ep_rewards[-self.cfg.print_every:]) / self.cfg.print_every\n",
        "                print(f\"Episode: {ep}, Win Rate: {win_rate:.2f}\")\n",
        "                stats.append((ep, win_rate))\n",
        "\n",
        "        return ep_rewards, stats"
      ]
    },
    {
      "cell_type": "code",
      "source": [
        "if __name__ == \"__main__\":\n",
        "    # Инициализация окружения и агента\n",
        "    env = gym.make(\"Blackjack-v1\", render_mode=None)\n",
        "    config = Config()\n",
        "    agent = Agent(env, config)\n",
        "\n",
        "    # Обучение агента\n",
        "    rewards, statistics = agent.train()\n",
        "\n",
        "    # Оценка стратегии\n",
        "    n_test_episodes = 10_000\n",
        "    wins = 0\n",
        "\n",
        "    for _ in range(n_test_episodes):\n",
        "        done = False\n",
        "        state, _ = env.reset()\n",
        "\n",
        "        while not done:\n",
        "            action = agent.get_action(state)\n",
        "            state, reward, terminated, truncated, _ = env.step(action)\n",
        "            done = terminated or truncated\n",
        "\n",
        "        if reward > 0:\n",
        "            wins += 1\n",
        "\n",
        "    print(f\"Win rate after training: {wins / n_test_episodes:.2f}\")\n"
      ],
      "metadata": {
        "colab": {
          "base_uri": "https://localhost:8080/"
        },
        "id": "QCBLNBU3OC1B",
        "outputId": "8c365162-e8dc-40f6-878b-0163250074d4"
      },
      "id": "QCBLNBU3OC1B",
      "execution_count": 5,
      "outputs": [
        {
          "output_type": "stream",
          "name": "stderr",
          "text": [
            "  6%|▌         | 5731/100000 [00:00<00:14, 6324.68it/s]"
          ]
        },
        {
          "output_type": "stream",
          "name": "stdout",
          "text": [
            "Episode: 5000, Win Rate: 0.41\n"
          ]
        },
        {
          "output_type": "stream",
          "name": "stderr",
          "text": [
            " 11%|█         | 10801/100000 [00:01<00:14, 6132.89it/s]"
          ]
        },
        {
          "output_type": "stream",
          "name": "stdout",
          "text": [
            "Episode: 10000, Win Rate: 0.41\n"
          ]
        },
        {
          "output_type": "stream",
          "name": "stderr",
          "text": [
            " 16%|█▌        | 15845/100000 [00:02<00:13, 6127.16it/s]"
          ]
        },
        {
          "output_type": "stream",
          "name": "stdout",
          "text": [
            "Episode: 15000, Win Rate: 0.41\n"
          ]
        },
        {
          "output_type": "stream",
          "name": "stderr",
          "text": [
            " 21%|██        | 20914/100000 [00:03<00:12, 6195.90it/s]"
          ]
        },
        {
          "output_type": "stream",
          "name": "stdout",
          "text": [
            "Episode: 20000, Win Rate: 0.41\n"
          ]
        },
        {
          "output_type": "stream",
          "name": "stderr",
          "text": [
            " 26%|██▌       | 25906/100000 [00:04<00:12, 6110.66it/s]"
          ]
        },
        {
          "output_type": "stream",
          "name": "stdout",
          "text": [
            "Episode: 25000, Win Rate: 0.42\n"
          ]
        },
        {
          "output_type": "stream",
          "name": "stderr",
          "text": [
            " 31%|███       | 30984/100000 [00:05<00:11, 6111.87it/s]"
          ]
        },
        {
          "output_type": "stream",
          "name": "stdout",
          "text": [
            "Episode: 30000, Win Rate: 0.43\n"
          ]
        },
        {
          "output_type": "stream",
          "name": "stderr",
          "text": [
            " 36%|███▌      | 36081/100000 [00:05<00:10, 6282.60it/s]"
          ]
        },
        {
          "output_type": "stream",
          "name": "stdout",
          "text": [
            "Episode: 35000, Win Rate: 0.42\n"
          ]
        },
        {
          "output_type": "stream",
          "name": "stderr",
          "text": [
            " 41%|████      | 41118/100000 [00:06<00:09, 6080.71it/s]"
          ]
        },
        {
          "output_type": "stream",
          "name": "stdout",
          "text": [
            "Episode: 40000, Win Rate: 0.42\n"
          ]
        },
        {
          "output_type": "stream",
          "name": "stderr",
          "text": [
            " 46%|████▌     | 46143/100000 [00:07<00:08, 6064.44it/s]"
          ]
        },
        {
          "output_type": "stream",
          "name": "stdout",
          "text": [
            "Episode: 45000, Win Rate: 0.41\n"
          ]
        },
        {
          "output_type": "stream",
          "name": "stderr",
          "text": [
            " 51%|█████     | 50664/100000 [00:08<00:07, 6378.69it/s]"
          ]
        },
        {
          "output_type": "stream",
          "name": "stdout",
          "text": [
            "Episode: 50000, Win Rate: 0.42\n"
          ]
        },
        {
          "output_type": "stream",
          "name": "stderr",
          "text": [
            " 56%|█████▌    | 55729/100000 [00:09<00:07, 6063.43it/s]"
          ]
        },
        {
          "output_type": "stream",
          "name": "stdout",
          "text": [
            "Episode: 55000, Win Rate: 0.41\n"
          ]
        },
        {
          "output_type": "stream",
          "name": "stderr",
          "text": [
            " 61%|██████    | 60808/100000 [00:09<00:06, 5928.14it/s]"
          ]
        },
        {
          "output_type": "stream",
          "name": "stdout",
          "text": [
            "Episode: 60000, Win Rate: 0.43\n"
          ]
        },
        {
          "output_type": "stream",
          "name": "stderr",
          "text": [
            " 65%|██████▌   | 65463/100000 [00:11<00:08, 3927.32it/s]"
          ]
        },
        {
          "output_type": "stream",
          "name": "stdout",
          "text": [
            "Episode: 65000, Win Rate: 0.44\n"
          ]
        },
        {
          "output_type": "stream",
          "name": "stderr",
          "text": [
            " 70%|███████   | 70408/100000 [00:12<00:07, 3705.30it/s]"
          ]
        },
        {
          "output_type": "stream",
          "name": "stdout",
          "text": [
            "Episode: 70000, Win Rate: 0.42\n"
          ]
        },
        {
          "output_type": "stream",
          "name": "stderr",
          "text": [
            " 76%|███████▌  | 75811/100000 [00:13<00:04, 5813.15it/s]"
          ]
        },
        {
          "output_type": "stream",
          "name": "stdout",
          "text": [
            "Episode: 75000, Win Rate: 0.42\n"
          ]
        },
        {
          "output_type": "stream",
          "name": "stderr",
          "text": [
            " 81%|████████  | 80950/100000 [00:14<00:03, 6269.17it/s]"
          ]
        },
        {
          "output_type": "stream",
          "name": "stdout",
          "text": [
            "Episode: 80000, Win Rate: 0.42\n"
          ]
        },
        {
          "output_type": "stream",
          "name": "stderr",
          "text": [
            " 85%|████████▌ | 85452/100000 [00:15<00:02, 5998.57it/s]"
          ]
        },
        {
          "output_type": "stream",
          "name": "stdout",
          "text": [
            "Episode: 85000, Win Rate: 0.42\n"
          ]
        },
        {
          "output_type": "stream",
          "name": "stderr",
          "text": [
            " 91%|█████████ | 91041/100000 [00:16<00:01, 5359.37it/s]"
          ]
        },
        {
          "output_type": "stream",
          "name": "stdout",
          "text": [
            "Episode: 90000, Win Rate: 0.41\n"
          ]
        },
        {
          "output_type": "stream",
          "name": "stderr",
          "text": [
            " 96%|█████████▌| 96229/100000 [00:16<00:00, 6301.02it/s]"
          ]
        },
        {
          "output_type": "stream",
          "name": "stdout",
          "text": [
            "Episode: 95000, Win Rate: 0.43\n"
          ]
        },
        {
          "output_type": "stream",
          "name": "stderr",
          "text": [
            "100%|██████████| 100000/100000 [00:17<00:00, 5696.92it/s]\n"
          ]
        },
        {
          "output_type": "stream",
          "name": "stdout",
          "text": [
            "Episode: 100000, Win Rate: 0.41\n",
            "Win rate after training: 0.42\n"
          ]
        }
      ]
    },
    {
      "cell_type": "markdown",
      "id": "5c6e202e",
      "metadata": {
        "id": "5c6e202e"
      },
      "source": [
        "<p class=\"task\" id=\"2\"></p>\n",
        "\n",
        "2\\. Повторите решение предыдущей задачи, используя алгоритм $\\epsilon$-greedy Q-learning. Исследуйте, как гиперпараметры и способ инициализации значений Q-функции влияют на результат.\n",
        "\n",
        "Cтратегия для выбора действия:\n",
        "1. Сгенерировать число $p$ из $U(0, 1)$;\n",
        "2. Если $p < \\epsilon$, то выбрать действие случайным образом;\n",
        "3. В противном случае $a_{t+1}(s_t) = argmax_aQ(s_t, a)$.\n",
        "\n",
        "Правило обновления Q-функции:\n",
        "![q-learning](https://wikimedia.org/api/rest_v1/media/math/render/svg/d247db9eaad4bd343e7882ec546bf3847ebd36d8)\n",
        "\n",
        "- [ ] Проверено на семинаре"
      ]
    },
    {
      "cell_type": "code",
      "execution_count": 6,
      "id": "048aaf7a",
      "metadata": {
        "id": "048aaf7a"
      },
      "outputs": [],
      "source": [
        "from dataclasses import dataclass\n",
        "\n",
        "@dataclass\n",
        "class Config:\n",
        "    discount: float = 0.95\n",
        "    lr: float = 0.005\n",
        "    n_episodes: float = 100_000\n",
        "    epsilon: float = 1.0\n",
        "    final_epsilon: float = 0.3\n",
        "    print_every: int = 5000"
      ]
    },
    {
      "cell_type": "code",
      "source": [
        "class Agent:\n",
        "    def __init__(self, env: gym.Env, config: Config) -> None:\n",
        "        self.env = env\n",
        "        self.cfg = config\n",
        "        self._create_q_table()\n",
        "        self.epsilon = self.cfg.epsilon\n",
        "\n",
        "    def _create_q_table(self):\n",
        "        \"\"\"Создание Q-таблицы размером 32x11x2x2\"\"\"\n",
        "        self.q_table = np.zeros((32, 11, 2, 2))\n",
        "\n",
        "    def get_action(self, state: tuple) -> int:\n",
        "        \"\"\"Выбор действия с использованием epsilon-greedy стратегии\"\"\"\n",
        "        player_sum, dealer_card, usable_ace = state\n",
        "        player_sum = min(player_sum, 32) - 1\n",
        "        dealer_card = dealer_card - 1\n",
        "        usable_ace = int(usable_ace)\n",
        "\n",
        "        if np.random.rand() < self.epsilon:\n",
        "            # Выбор случайного действия\n",
        "            return np.random.choice([0, 1])\n",
        "        else:\n",
        "            # Жадное действие\n",
        "            return np.argmax(self.q_table[player_sum, dealer_card, usable_ace, :])\n",
        "\n",
        "    def update_q_table(\n",
        "        self,\n",
        "        state: tuple,\n",
        "        new_state: tuple,\n",
        "        reward: float,\n",
        "        action: int,\n",
        "        done: bool,\n",
        "    ) -> None:\n",
        "        \"\"\"Обновление Q-таблицы\"\"\"\n",
        "        player_sum, dealer_card, usable_ace = state\n",
        "        player_sum = min(player_sum, 32) - 1\n",
        "        dealer_card = dealer_card - 1\n",
        "        usable_ace = int(usable_ace)\n",
        "\n",
        "        new_player_sum, new_dealer_card, new_usable_ace = new_state if not done else (0, 0, 0)\n",
        "        new_player_sum = min(new_player_sum, 32) - 1 if not done else 0\n",
        "        new_dealer_card = new_dealer_card - 1 if not done else 0\n",
        "        new_usable_ace = int(new_usable_ace) if not done else 0\n",
        "\n",
        "        future_reward = 0 if done else np.max(self.q_table[new_player_sum, new_dealer_card, new_usable_ace, :])\n",
        "        target = reward + self.cfg.discount * future_reward\n",
        "\n",
        "        self.q_table[player_sum, dealer_card, usable_ace, action] += self.cfg.lr * (\n",
        "            target - self.q_table[player_sum, dealer_card, usable_ace, action]\n",
        "        )\n",
        "\n",
        "    def run_episode(self) -> float:\n",
        "        \"\"\"Запуск одного эпизода игры\"\"\"\n",
        "        done = False\n",
        "        state, _ = self.env.reset()\n",
        "        total_reward = 0\n",
        "\n",
        "        while not done:\n",
        "            action = self.get_action(state)\n",
        "            new_state, reward, terminated, truncated, _ = self.env.step(action)\n",
        "            done = terminated or truncated\n",
        "\n",
        "            self.update_q_table(state, new_state, reward, action, done)\n",
        "            state = new_state\n",
        "            total_reward += reward\n",
        "\n",
        "        return total_reward\n",
        "\n",
        "    def train(self):\n",
        "        \"\"\"Обучение агента\"\"\"\n",
        "        ep_rewards = []\n",
        "        stats = []\n",
        "        epsilon_decay = (self.cfg.epsilon - self.cfg.final_epsilon) / self.cfg.n_episodes\n",
        "\n",
        "        for ep in tqdm(range(1, self.cfg.n_episodes + 1)):\n",
        "            reward = self.run_episode()\n",
        "            ep_rewards.append(reward)\n",
        "\n",
        "            # Плавное уменьшение epsilon\n",
        "            self.epsilon = max(self.cfg.final_epsilon, self.epsilon - epsilon_decay)\n",
        "\n",
        "            if ep % self.cfg.print_every == 0:\n",
        "                win_rate = sum(r > 0 for r in ep_rewards[-self.cfg.print_every:]) / self.cfg.print_every\n",
        "                print(f\"Episode: {ep}, Win Rate: {win_rate:.2f}, Epsilon: {self.epsilon:.2f}\")\n",
        "                stats.append((ep, win_rate))\n",
        "\n",
        "        return ep_rewards, stats\n",
        "\n",
        "\n"
      ],
      "metadata": {
        "id": "9Ns5vpUaP0JL"
      },
      "id": "9Ns5vpUaP0JL",
      "execution_count": 7,
      "outputs": []
    },
    {
      "cell_type": "code",
      "source": [
        "if __name__ == \"__main__\":\n",
        "    # Инициализация окружения и агента\n",
        "    env = gym.make(\"Blackjack-v1\", render_mode=None)\n",
        "    config = Config()\n",
        "    agent = Agent(env, config)\n",
        "\n",
        "    # Обучение агента\n",
        "    rewards, statistics = agent.train()\n",
        "\n",
        "    # Оценка стратегии\n",
        "    n_test_episodes = 10_000\n",
        "    wins = 0\n",
        "\n",
        "    for _ in range(n_test_episodes):\n",
        "        done = False\n",
        "        state, _ = env.reset()\n",
        "\n",
        "        while not done:\n",
        "            action = agent.get_action(state)\n",
        "            state, reward, terminated, truncated, _ = env.step(action)\n",
        "            done = terminated or truncated\n",
        "\n",
        "        if reward > 0:\n",
        "            wins += 1\n",
        "\n",
        "    print(f\"Win rate after training: {wins / n_test_episodes:.2f}\")"
      ],
      "metadata": {
        "colab": {
          "base_uri": "https://localhost:8080/"
        },
        "id": "QEmbI7vyP5Ut",
        "outputId": "5cde3c87-ce6e-43c7-fc16-cee11eab9d71"
      },
      "id": "QEmbI7vyP5Ut",
      "execution_count": 8,
      "outputs": [
        {
          "output_type": "stream",
          "name": "stderr",
          "text": [
            "  6%|▌         | 5923/100000 [00:01<00:15, 6066.74it/s]"
          ]
        },
        {
          "output_type": "stream",
          "name": "stdout",
          "text": [
            "Episode: 5000, Win Rate: 0.28, Epsilon: 0.97\n"
          ]
        },
        {
          "output_type": "stream",
          "name": "stderr",
          "text": [
            " 11%|█         | 10658/100000 [00:01<00:15, 5868.05it/s]"
          ]
        },
        {
          "output_type": "stream",
          "name": "stdout",
          "text": [
            "Episode: 10000, Win Rate: 0.30, Epsilon: 0.93\n"
          ]
        },
        {
          "output_type": "stream",
          "name": "stderr",
          "text": [
            " 16%|█▌        | 15945/100000 [00:02<00:14, 5641.58it/s]"
          ]
        },
        {
          "output_type": "stream",
          "name": "stdout",
          "text": [
            "Episode: 15000, Win Rate: 0.29, Epsilon: 0.90\n"
          ]
        },
        {
          "output_type": "stream",
          "name": "stderr",
          "text": [
            " 21%|██        | 21160/100000 [00:03<00:13, 5689.20it/s]"
          ]
        },
        {
          "output_type": "stream",
          "name": "stdout",
          "text": [
            "Episode: 20000, Win Rate: 0.30, Epsilon: 0.86\n"
          ]
        },
        {
          "output_type": "stream",
          "name": "stderr",
          "text": [
            " 26%|██▌       | 25783/100000 [00:04<00:13, 5433.27it/s]"
          ]
        },
        {
          "output_type": "stream",
          "name": "stdout",
          "text": [
            "Episode: 25000, Win Rate: 0.30, Epsilon: 0.83\n"
          ]
        },
        {
          "output_type": "stream",
          "name": "stderr",
          "text": [
            " 31%|███       | 30669/100000 [00:05<00:11, 5783.67it/s]"
          ]
        },
        {
          "output_type": "stream",
          "name": "stdout",
          "text": [
            "Episode: 30000, Win Rate: 0.31, Epsilon: 0.79\n"
          ]
        },
        {
          "output_type": "stream",
          "name": "stderr",
          "text": [
            " 36%|███▌      | 36062/100000 [00:06<00:11, 5700.64it/s]"
          ]
        },
        {
          "output_type": "stream",
          "name": "stdout",
          "text": [
            "Episode: 35000, Win Rate: 0.32, Epsilon: 0.76\n"
          ]
        },
        {
          "output_type": "stream",
          "name": "stderr",
          "text": [
            " 41%|████      | 40754/100000 [00:07<00:10, 5787.97it/s]"
          ]
        },
        {
          "output_type": "stream",
          "name": "stdout",
          "text": [
            "Episode: 40000, Win Rate: 0.33, Epsilon: 0.72\n"
          ]
        },
        {
          "output_type": "stream",
          "name": "stderr",
          "text": [
            " 46%|████▌     | 45548/100000 [00:08<00:14, 3662.22it/s]"
          ]
        },
        {
          "output_type": "stream",
          "name": "stdout",
          "text": [
            "Episode: 45000, Win Rate: 0.32, Epsilon: 0.69\n"
          ]
        },
        {
          "output_type": "stream",
          "name": "stderr",
          "text": [
            " 50%|█████     | 50494/100000 [00:09<00:14, 3477.73it/s]"
          ]
        },
        {
          "output_type": "stream",
          "name": "stdout",
          "text": [
            "Episode: 50000, Win Rate: 0.33, Epsilon: 0.65\n"
          ]
        },
        {
          "output_type": "stream",
          "name": "stderr",
          "text": [
            " 56%|█████▌    | 55795/100000 [00:10<00:08, 5491.37it/s]"
          ]
        },
        {
          "output_type": "stream",
          "name": "stdout",
          "text": [
            "Episode: 55000, Win Rate: 0.35, Epsilon: 0.62\n"
          ]
        },
        {
          "output_type": "stream",
          "name": "stderr",
          "text": [
            " 61%|██████    | 61143/100000 [00:11<00:06, 5705.77it/s]"
          ]
        },
        {
          "output_type": "stream",
          "name": "stdout",
          "text": [
            "Episode: 60000, Win Rate: 0.35, Epsilon: 0.58\n"
          ]
        },
        {
          "output_type": "stream",
          "name": "stderr",
          "text": [
            " 66%|██████▌   | 65856/100000 [00:12<00:06, 5591.31it/s]"
          ]
        },
        {
          "output_type": "stream",
          "name": "stdout",
          "text": [
            "Episode: 65000, Win Rate: 0.36, Epsilon: 0.55\n"
          ]
        },
        {
          "output_type": "stream",
          "name": "stderr",
          "text": [
            " 71%|███████   | 70646/100000 [00:13<00:05, 5705.04it/s]"
          ]
        },
        {
          "output_type": "stream",
          "name": "stdout",
          "text": [
            "Episode: 70000, Win Rate: 0.36, Epsilon: 0.51\n"
          ]
        },
        {
          "output_type": "stream",
          "name": "stderr",
          "text": [
            " 76%|███████▌  | 76003/100000 [00:14<00:04, 5843.70it/s]"
          ]
        },
        {
          "output_type": "stream",
          "name": "stdout",
          "text": [
            "Episode: 75000, Win Rate: 0.36, Epsilon: 0.48\n"
          ]
        },
        {
          "output_type": "stream",
          "name": "stderr",
          "text": [
            " 81%|████████  | 80792/100000 [00:15<00:03, 5958.13it/s]"
          ]
        },
        {
          "output_type": "stream",
          "name": "stdout",
          "text": [
            "Episode: 80000, Win Rate: 0.36, Epsilon: 0.44\n"
          ]
        },
        {
          "output_type": "stream",
          "name": "stderr",
          "text": [
            " 86%|████████▌ | 86128/100000 [00:16<00:02, 5930.41it/s]"
          ]
        },
        {
          "output_type": "stream",
          "name": "stdout",
          "text": [
            "Episode: 85000, Win Rate: 0.38, Epsilon: 0.41\n"
          ]
        },
        {
          "output_type": "stream",
          "name": "stderr",
          "text": [
            " 91%|█████████ | 90881/100000 [00:17<00:01, 5816.95it/s]"
          ]
        },
        {
          "output_type": "stream",
          "name": "stdout",
          "text": [
            "Episode: 90000, Win Rate: 0.36, Epsilon: 0.37\n"
          ]
        },
        {
          "output_type": "stream",
          "name": "stderr",
          "text": [
            " 96%|█████████▌| 95662/100000 [00:17<00:00, 5717.06it/s]"
          ]
        },
        {
          "output_type": "stream",
          "name": "stdout",
          "text": [
            "Episode: 95000, Win Rate: 0.38, Epsilon: 0.34\n"
          ]
        },
        {
          "output_type": "stream",
          "name": "stderr",
          "text": [
            "100%|██████████| 100000/100000 [00:18<00:00, 5378.40it/s]\n"
          ]
        },
        {
          "output_type": "stream",
          "name": "stdout",
          "text": [
            "Episode: 100000, Win Rate: 0.38, Epsilon: 0.30\n",
            "Win rate after training: 0.39\n"
          ]
        }
      ]
    },
    {
      "cell_type": "markdown",
      "id": "41ba9ad9",
      "metadata": {
        "id": "41ba9ad9"
      },
      "source": [
        "<p class=\"task\" id=\"3\"></p>\n",
        "\n",
        "3\\. Повторите решение задачи 1, используя алгоритм double Q-learning.\n",
        "\n",
        "Cтратегия для выбора действия:\n",
        "1. Сгенерировать число $p$ из $U(0, 1)$;\n",
        "2. Если $p < \\epsilon$, то выбрать действие случайным образом;\n",
        "3. В противном случае $a_{t+1}(s_t) = argmax_a\\left((Q^A_t + Q^B_t)(s_t, a))\\right) $.\n",
        "\n",
        "Правило обновления Q-функции:\n",
        "$$\n",
        "Q^A_{t+1}(s_{t}, a_{t}) = Q^A_{t}(s_{t}, a_{t}) + \\alpha_{t}(s_{t}, a_{t}) \\left(r_{t} + \\gamma Q^B_{t}\\left(s_{t+1}, {arg~max}_{a} Q^A_t(s_{t+1}, a)\\right) - Q^A_{t}(s_{t}, a_{t})\\right)\n",
        "$$\n",
        "\n",
        "$$\n",
        "Q^B_{t+1}(s_{t}, a_{t}) = Q^B_{t}(s_{t}, a_{t}) + \\alpha_{t}(s_{t}, a_{t}) \\left(r_{t} + \\gamma Q^A_{t}\\left(s_{t+1}, {arg~max}_{a} Q^B_t(s_{t+1}, a)\\right) - Q^B_{t}(s_{t}, a_{t})\\right)\n",
        "$$\n",
        "\n",
        "\n",
        "- [ ] Проверено на семинаре"
      ]
    },
    {
      "cell_type": "code",
      "source": [
        "@dataclass\n",
        "class Config:\n",
        "    discount: float = 0.95\n",
        "    lr: float = 0.005\n",
        "    n_episodes: int = 100_000\n",
        "    epsilon: float = 1.0\n",
        "    final_epsilon: float = 0.3\n",
        "    print_every: int = 5000\n"
      ],
      "metadata": {
        "id": "B6Nz-PS0QlBq"
      },
      "id": "B6Nz-PS0QlBq",
      "execution_count": 9,
      "outputs": []
    },
    {
      "cell_type": "code",
      "source": [
        "class Agent:\n",
        "    def __init__(self, env: gym.Env, config: Config) -> None:\n",
        "        self.env = env\n",
        "        self.cfg = config\n",
        "        self._create_q_tables()\n",
        "        self.epsilon = self.cfg.epsilon\n",
        "\n",
        "    def _create_q_tables(self):\n",
        "        \"\"\"Создание двух Q-таблиц размером 32x11x2x2\"\"\"\n",
        "        self.q_table_a = np.zeros((32, 11, 2, 2))\n",
        "        self.q_table_b = np.zeros((32, 11, 2, 2))\n",
        "\n",
        "    def get_action(self, state: tuple) -> int:\n",
        "        \"\"\"Выбор действия с использованием epsilon-greedy стратегии и суммарных значений Q\"\"\"\n",
        "        player_sum, dealer_card, usable_ace = state\n",
        "        player_sum = min(player_sum, 32) - 1\n",
        "        dealer_card = dealer_card - 1\n",
        "        usable_ace = int(usable_ace)\n",
        "\n",
        "        if np.random.rand() < self.epsilon:\n",
        "            # Выбор случайного действия\n",
        "            return np.random.choice([0, 1])\n",
        "        else:\n",
        "            # Жадное действие с использованием суммы Q-таблиц\n",
        "            q_values = self.q_table_a[player_sum, dealer_card, usable_ace, :] + self.q_table_b[player_sum, dealer_card, usable_ace, :]\n",
        "            return np.argmax(q_values)\n",
        "\n",
        "    def update_q_tables(\n",
        "        self,\n",
        "        state: tuple,\n",
        "        new_state: tuple,\n",
        "        reward: float,\n",
        "        action: int,\n",
        "        done: bool,\n",
        "    ) -> None:\n",
        "        \"\"\"Обновление Q-таблиц по правилу double Q-learning\"\"\"\n",
        "        player_sum, dealer_card, usable_ace = state\n",
        "        player_sum = min(player_sum, 32) - 1\n",
        "        dealer_card = dealer_card - 1\n",
        "        usable_ace = int(usable_ace)\n",
        "\n",
        "        new_player_sum, new_dealer_card, new_usable_ace = new_state if not done else (0, 0, 0)\n",
        "        new_player_sum = min(new_player_sum, 32) - 1 if not done else 0\n",
        "        new_dealer_card = new_dealer_card - 1 if not done else 0\n",
        "        new_usable_ace = int(new_usable_ace) if not done else 0\n",
        "\n",
        "        if np.random.rand() < 0.5:\n",
        "            # Обновление Q_A\n",
        "            max_action_a = np.argmax(self.q_table_a[new_player_sum, new_dealer_card, new_usable_ace, :])\n",
        "            future_reward = 0 if done else self.q_table_b[new_player_sum, new_dealer_card, new_usable_ace, max_action_a]\n",
        "            target = reward + self.cfg.discount * future_reward\n",
        "            self.q_table_a[player_sum, dealer_card, usable_ace, action] += self.cfg.lr * (\n",
        "                target - self.q_table_a[player_sum, dealer_card, usable_ace, action]\n",
        "            )\n",
        "        else:\n",
        "            # Обновление Q_B\n",
        "            max_action_b = np.argmax(self.q_table_b[new_player_sum, new_dealer_card, new_usable_ace, :])\n",
        "            future_reward = 0 if done else self.q_table_a[new_player_sum, new_dealer_card, new_usable_ace, max_action_b]\n",
        "            target = reward + self.cfg.discount * future_reward\n",
        "            self.q_table_b[player_sum, dealer_card, usable_ace, action] += self.cfg.lr * (\n",
        "                target - self.q_table_b[player_sum, dealer_card, usable_ace, action]\n",
        "            )\n",
        "\n",
        "    def run_episode(self) -> float:\n",
        "        \"\"\"Запуск одного эпизода игры\"\"\"\n",
        "        done = False\n",
        "        state, _ = self.env.reset()\n",
        "        total_reward = 0\n",
        "\n",
        "        while not done:\n",
        "            action = self.get_action(state)\n",
        "            new_state, reward, terminated, truncated, _ = self.env.step(action)\n",
        "            done = terminated or truncated\n",
        "\n",
        "            self.update_q_tables(state, new_state, reward, action, done)\n",
        "            state = new_state\n",
        "            total_reward += reward\n",
        "\n",
        "        return total_reward\n",
        "\n",
        "    def train(self):\n",
        "        \"\"\"Обучение агента\"\"\"\n",
        "        ep_rewards = []\n",
        "        stats = []\n",
        "        epsilon_decay = (self.cfg.epsilon - self.cfg.final_epsilon) / self.cfg.n_episodes\n",
        "\n",
        "        for ep in tqdm(range(1, self.cfg.n_episodes + 1)):\n",
        "            reward = self.run_episode()\n",
        "            ep_rewards.append(reward)\n",
        "\n",
        "            # Плавное уменьшение epsilon\n",
        "            self.epsilon = max(self.cfg.final_epsilon, self.epsilon - epsilon_decay)\n",
        "\n",
        "            if ep % self.cfg.print_every == 0:\n",
        "                win_rate = sum(r > 0 for r in ep_rewards[-self.cfg.print_every:]) / self.cfg.print_every\n",
        "                print(f\"Episode: {ep}, Win Rate: {win_rate:.2f}, Epsilon: {self.epsilon:.2f}\")\n",
        "                stats.append((ep, win_rate))\n",
        "\n",
        "        return ep_rewards, stats"
      ],
      "metadata": {
        "id": "QVDs-r5NQlxV"
      },
      "id": "QVDs-r5NQlxV",
      "execution_count": 10,
      "outputs": []
    },
    {
      "cell_type": "code",
      "source": [
        "if __name__ == \"__main__\":\n",
        "    # Инициализация окружения и агента\n",
        "    env = gym.make(\"Blackjack-v1\", render_mode=None)\n",
        "    config = Config()\n",
        "    agent = Agent(env, config)\n",
        "\n",
        "    # Обучение агента\n",
        "    rewards, statistics = agent.train()\n",
        "\n",
        "    # Оценка стратегии\n",
        "    n_test_episodes = 10_000\n",
        "    wins = 0\n",
        "\n",
        "    for _ in range(n_test_episodes):\n",
        "        done = False\n",
        "        state, _ = env.reset()\n",
        "\n",
        "        while not done:\n",
        "            action = agent.get_action(state)\n",
        "            state, reward, terminated, truncated, _ = env.step(action)\n",
        "            done = terminated or truncated\n",
        "\n",
        "        if reward > 0:\n",
        "            wins += 1\n",
        "\n",
        "    print(f\"Win rate after training: {wins / n_test_episodes:.2f}\")\n"
      ],
      "metadata": {
        "colab": {
          "base_uri": "https://localhost:8080/"
        },
        "id": "dzuS5PHLQlzq",
        "outputId": "f9df423a-dfb6-4b34-8426-7c005552d6ec"
      },
      "id": "dzuS5PHLQlzq",
      "execution_count": 11,
      "outputs": [
        {
          "output_type": "stream",
          "name": "stderr",
          "text": [
            "  6%|▌         | 5666/100000 [00:01<00:17, 5517.54it/s]"
          ]
        },
        {
          "output_type": "stream",
          "name": "stdout",
          "text": [
            "Episode: 5000, Win Rate: 0.29, Epsilon: 0.97\n"
          ]
        },
        {
          "output_type": "stream",
          "name": "stderr",
          "text": [
            " 11%|█         | 10792/100000 [00:01<00:15, 5613.87it/s]"
          ]
        },
        {
          "output_type": "stream",
          "name": "stdout",
          "text": [
            "Episode: 10000, Win Rate: 0.28, Epsilon: 0.93\n"
          ]
        },
        {
          "output_type": "stream",
          "name": "stderr",
          "text": [
            " 16%|█▌        | 15830/100000 [00:02<00:15, 5479.15it/s]"
          ]
        },
        {
          "output_type": "stream",
          "name": "stdout",
          "text": [
            "Episode: 15000, Win Rate: 0.29, Epsilon: 0.90\n"
          ]
        },
        {
          "output_type": "stream",
          "name": "stderr",
          "text": [
            " 21%|██        | 20565/100000 [00:03<00:20, 3895.60it/s]"
          ]
        },
        {
          "output_type": "stream",
          "name": "stdout",
          "text": [
            "Episode: 20000, Win Rate: 0.30, Epsilon: 0.86\n"
          ]
        },
        {
          "output_type": "stream",
          "name": "stderr",
          "text": [
            " 25%|██▌       | 25453/100000 [00:05<00:21, 3510.34it/s]"
          ]
        },
        {
          "output_type": "stream",
          "name": "stdout",
          "text": [
            "Episode: 25000, Win Rate: 0.30, Epsilon: 0.83\n"
          ]
        },
        {
          "output_type": "stream",
          "name": "stderr",
          "text": [
            " 31%|███       | 30962/100000 [00:06<00:14, 4882.79it/s]"
          ]
        },
        {
          "output_type": "stream",
          "name": "stdout",
          "text": [
            "Episode: 30000, Win Rate: 0.31, Epsilon: 0.79\n"
          ]
        },
        {
          "output_type": "stream",
          "name": "stderr",
          "text": [
            " 36%|███▌      | 35828/100000 [00:07<00:12, 5262.25it/s]"
          ]
        },
        {
          "output_type": "stream",
          "name": "stdout",
          "text": [
            "Episode: 35000, Win Rate: 0.32, Epsilon: 0.76\n"
          ]
        },
        {
          "output_type": "stream",
          "name": "stderr",
          "text": [
            " 41%|████      | 40859/100000 [00:08<00:10, 5544.69it/s]"
          ]
        },
        {
          "output_type": "stream",
          "name": "stdout",
          "text": [
            "Episode: 40000, Win Rate: 0.34, Epsilon: 0.72\n"
          ]
        },
        {
          "output_type": "stream",
          "name": "stderr",
          "text": [
            " 46%|████▌     | 45918/100000 [00:09<00:09, 5522.53it/s]"
          ]
        },
        {
          "output_type": "stream",
          "name": "stdout",
          "text": [
            "Episode: 45000, Win Rate: 0.32, Epsilon: 0.69\n"
          ]
        },
        {
          "output_type": "stream",
          "name": "stderr",
          "text": [
            " 51%|█████     | 50967/100000 [00:10<00:08, 5543.76it/s]"
          ]
        },
        {
          "output_type": "stream",
          "name": "stdout",
          "text": [
            "Episode: 50000, Win Rate: 0.33, Epsilon: 0.65\n"
          ]
        },
        {
          "output_type": "stream",
          "name": "stderr",
          "text": [
            " 56%|█████▌    | 56018/100000 [00:11<00:08, 5486.70it/s]"
          ]
        },
        {
          "output_type": "stream",
          "name": "stdout",
          "text": [
            "Episode: 55000, Win Rate: 0.33, Epsilon: 0.62\n"
          ]
        },
        {
          "output_type": "stream",
          "name": "stderr",
          "text": [
            " 61%|██████    | 61078/100000 [00:12<00:07, 5481.02it/s]"
          ]
        },
        {
          "output_type": "stream",
          "name": "stdout",
          "text": [
            "Episode: 60000, Win Rate: 0.35, Epsilon: 0.58\n"
          ]
        },
        {
          "output_type": "stream",
          "name": "stderr",
          "text": [
            " 66%|██████▌   | 65579/100000 [00:13<00:06, 5204.52it/s]"
          ]
        },
        {
          "output_type": "stream",
          "name": "stdout",
          "text": [
            "Episode: 65000, Win Rate: 0.35, Epsilon: 0.55\n"
          ]
        },
        {
          "output_type": "stream",
          "name": "stderr",
          "text": [
            " 71%|███████   | 70580/100000 [00:14<00:05, 5202.46it/s]"
          ]
        },
        {
          "output_type": "stream",
          "name": "stdout",
          "text": [
            "Episode: 70000, Win Rate: 0.35, Epsilon: 0.51\n"
          ]
        },
        {
          "output_type": "stream",
          "name": "stderr",
          "text": [
            " 76%|███████▌  | 75665/100000 [00:15<00:04, 5422.06it/s]"
          ]
        },
        {
          "output_type": "stream",
          "name": "stdout",
          "text": [
            "Episode: 75000, Win Rate: 0.35, Epsilon: 0.48\n"
          ]
        },
        {
          "output_type": "stream",
          "name": "stderr",
          "text": [
            " 81%|████████  | 80776/100000 [00:15<00:03, 5434.78it/s]"
          ]
        },
        {
          "output_type": "stream",
          "name": "stdout",
          "text": [
            "Episode: 80000, Win Rate: 0.36, Epsilon: 0.44\n"
          ]
        },
        {
          "output_type": "stream",
          "name": "stderr",
          "text": [
            " 85%|████████▌ | 85353/100000 [00:17<00:04, 3603.44it/s]"
          ]
        },
        {
          "output_type": "stream",
          "name": "stdout",
          "text": [
            "Episode: 85000, Win Rate: 0.36, Epsilon: 0.41\n"
          ]
        },
        {
          "output_type": "stream",
          "name": "stderr",
          "text": [
            " 91%|█████████ | 90631/100000 [00:18<00:02, 3562.24it/s]"
          ]
        },
        {
          "output_type": "stream",
          "name": "stdout",
          "text": [
            "Episode: 90000, Win Rate: 0.37, Epsilon: 0.37\n"
          ]
        },
        {
          "output_type": "stream",
          "name": "stderr",
          "text": [
            " 96%|█████████▌| 95844/100000 [00:19<00:00, 5302.80it/s]"
          ]
        },
        {
          "output_type": "stream",
          "name": "stdout",
          "text": [
            "Episode: 95000, Win Rate: 0.38, Epsilon: 0.34\n"
          ]
        },
        {
          "output_type": "stream",
          "name": "stderr",
          "text": [
            "100%|██████████| 100000/100000 [00:20<00:00, 4864.57it/s]\n"
          ]
        },
        {
          "output_type": "stream",
          "name": "stdout",
          "text": [
            "Episode: 100000, Win Rate: 0.38, Epsilon: 0.30\n",
            "Win rate after training: 0.39\n"
          ]
        }
      ]
    },
    {
      "cell_type": "markdown",
      "id": "6f2ea00a",
      "metadata": {
        "id": "6f2ea00a"
      },
      "source": [
        "<p class=\"task\" id=\"4\"></p>\n",
        "\n",
        "4\\. Обучите агента для управления машиной (окружение `MountainCar-v0`) при помощи любого из рассмотренных вариантов алгоритма Q-learning. Для перехода от непрерывного пространства состояний к конечному разбейте пространство состояний на окна (количество окон выберите сами). Для определения минимальных и максимальных значений координат воспользуйтесь [информацией об окружении](https://gymnasium.farama.org/environments/classic_control/mountain_car/#observation-space). Во время обучения несколько раз вычислите среднее значение наград за эпизод за несколько последних эпизодов и количество успешных сессий за последние эпизоды. После завершения обучения визуализируйте полученные данные.\n",
        "\n",
        "Сделайте несколько промежуточных видео с записью работы агента во время обучения.\n",
        "\n",
        "- [ ] Проверено на семинаре"
      ]
    },
    {
      "cell_type": "code",
      "source": [
        "@dataclass\n",
        "class Config:\n",
        "    discount: float = 0.99\n",
        "    lr: float = 0.1\n",
        "    n_episodes: int = 20_000\n",
        "    epsilon: float = 1.0\n",
        "    final_epsilon: float = 0.1\n",
        "    print_every: int = 500\n",
        "    n_bins: int = 20  # Количество окон для дискретизации\n"
      ],
      "metadata": {
        "id": "rt1s3tppRlrJ"
      },
      "id": "rt1s3tppRlrJ",
      "execution_count": 12,
      "outputs": []
    },
    {
      "cell_type": "code",
      "source": [
        "class Agent:\n",
        "    def __init__(self, env: gym.Env, config: Config) -> None:\n",
        "        self.env = env\n",
        "        self.cfg = config\n",
        "        self.state_bins = self._create_bins()\n",
        "        self.q_table = np.zeros((*[self.cfg.n_bins] * self.env.observation_space.shape[0], self.env.action_space.n))\n",
        "        self.epsilon = self.cfg.epsilon\n",
        "\n",
        "    def _create_bins(self):\n",
        "        \"\"\"Создание окон для дискретизации состояний\"\"\"\n",
        "        state_bounds = zip(self.env.observation_space.low, self.env.observation_space.high)\n",
        "        bins = [np.linspace(low, high, self.cfg.n_bins - 1) for low, high in state_bounds]\n",
        "        return bins\n",
        "\n",
        "    def _discretize_state(self, state: np.ndarray) -> tuple:\n",
        "        \"\"\"Преобразование непрерывного состояния в дискретное\"\"\"\n",
        "        state_idx = [np.digitize(s, b) for s, b in zip(state, self.state_bins)]\n",
        "        return tuple(state_idx)\n",
        "\n",
        "    def get_action(self, state: np.ndarray) -> int:\n",
        "        \"\"\"Выбор действия с использованием epsilon-greedy стратегии\"\"\"\n",
        "        state_idx = self._discretize_state(state)\n",
        "        if np.random.rand() < self.epsilon:\n",
        "            return self.env.action_space.sample()\n",
        "        return np.argmax(self.q_table[state_idx])\n",
        "\n",
        "    def update_q_table(\n",
        "        self,\n",
        "        state: np.ndarray,\n",
        "        new_state: np.ndarray,\n",
        "        reward: float,\n",
        "        action: int,\n",
        "        done: bool,\n",
        "    ) -> None:\n",
        "        \"\"\"Обновление Q-таблицы\"\"\"\n",
        "        state_idx = self._discretize_state(state)\n",
        "        new_state_idx = self._discretize_state(new_state)\n",
        "\n",
        "        max_future_q = 0 if done else np.max(self.q_table[new_state_idx])\n",
        "        target = reward + self.cfg.discount * max_future_q\n",
        "\n",
        "        self.q_table[state_idx][action] += self.cfg.lr * (\n",
        "            target - self.q_table[state_idx][action]\n",
        "        )\n",
        "\n",
        "    def run_episode(self) -> float:\n",
        "        \"\"\"Запуск одного эпизода игры\"\"\"\n",
        "        state, _ = self.env.reset()\n",
        "        total_reward = 0\n",
        "        done = False\n",
        "\n",
        "        while not done:\n",
        "            action = self.get_action(state)\n",
        "            new_state, reward, terminated, truncated, _ = self.env.step(action)\n",
        "            done = terminated or truncated\n",
        "\n",
        "            self.update_q_table(state, new_state, reward, action, done)\n",
        "            state = new_state\n",
        "            total_reward += reward\n",
        "\n",
        "        return total_reward\n",
        "\n",
        "    def train(self):\n",
        "        \"\"\"Обучение агента\"\"\"\n",
        "        ep_rewards = []\n",
        "        successful_episodes = 0\n",
        "        epsilon_decay = (self.cfg.epsilon - self.cfg.final_epsilon) / self.cfg.n_episodes\n",
        "\n",
        "        for ep in tqdm(range(1, self.cfg.n_episodes + 1)):\n",
        "            reward = self.run_episode()\n",
        "            ep_rewards.append(reward)\n",
        "\n",
        "            # Считаем успешные эпизоды (наградой считается успешное завершение)\n",
        "            if reward >= -200:  # Порог успеха зависит от окружения\n",
        "                successful_episodes += 1\n",
        "\n",
        "            # Плавное уменьшение epsilon\n",
        "            self.epsilon = max(self.cfg.final_epsilon, self.epsilon - epsilon_decay)\n",
        "\n",
        "            if ep % self.cfg.print_every == 0:\n",
        "                avg_reward = np.mean(ep_rewards[-self.cfg.print_every:])\n",
        "                success_rate = successful_episodes / self.cfg.print_every\n",
        "                print(f\"Episode: {ep}, Avg Reward: {avg_reward:.2f}, Success Rate: {success_rate:.2f}, Epsilon: {self.epsilon:.2f}\")\n",
        "                successful_episodes = 0  # Сбрасываем счётчик\n",
        "\n",
        "        return ep_rewards\n"
      ],
      "metadata": {
        "id": "M-qBXz8CRluC"
      },
      "id": "M-qBXz8CRluC",
      "execution_count": 13,
      "outputs": []
    },
    {
      "cell_type": "code",
      "source": [
        "if __name__ == \"__main__\":\n",
        "    # Инициализация окружения и агента\n",
        "    env = gym.make(\"MountainCar-v0\", render_mode=\"rgb_array\")\n",
        "    agent = Agent(env, config)\n",
        "\n",
        "    # Обучение агента\n",
        "    rewards = agent.train()\n",
        "\n",
        "    # Оценка стратегии и визуализация\n",
        "    import matplotlib.pyplot as plt\n",
        "\n",
        "    plt.plot(rewards)\n",
        "    plt.title(\"Rewards over Episodes\")\n",
        "    plt.xlabel(\"Episode\")\n",
        "    plt.ylabel(\"Reward\")\n",
        "    plt.show()\n",
        "\n",
        "    # Видеозапись работы агента\n",
        "    from gymnasium.wrappers import RecordVideo\n",
        "\n",
        "    env = RecordVideo(gym.make(\"MountainCar-v0\", render_mode=\"rgb_array\"), \"videos\", episode_trigger=lambda x: x % 100 == 0)\n",
        "\n",
        "    for _ in range(5):\n",
        "        done = False\n",
        "        state, _ = env.reset()\n",
        "\n",
        "        while not done:\n",
        "            action = agent.get_action(state)\n",
        "            state, _, terminated, truncated, _ = env.step(action)\n",
        "            done = terminated or truncated\n",
        "\n",
        "    env.close()"
      ],
      "metadata": {
        "colab": {
          "base_uri": "https://localhost:8080/",
          "height": 1000
        },
        "id": "8skM9-w2Rl4z",
        "outputId": "81c1d555-c4a3-4f1b-d9d3-e8497463dd8b"
      },
      "id": "8skM9-w2Rl4z",
      "execution_count": 15,
      "outputs": [
        {
          "output_type": "stream",
          "name": "stderr",
          "text": [
            "  3%|▎         | 507/20000 [00:11<06:36, 49.17it/s]"
          ]
        },
        {
          "output_type": "stream",
          "name": "stdout",
          "text": [
            "Episode: 500, Avg Reward: -200.00, Success Rate: 1.00, Epsilon: 0.98\n"
          ]
        },
        {
          "output_type": "stream",
          "name": "stderr",
          "text": [
            "  5%|▌         | 1007/20000 [00:23<06:31, 48.52it/s]"
          ]
        },
        {
          "output_type": "stream",
          "name": "stdout",
          "text": [
            "Episode: 1000, Avg Reward: -200.00, Success Rate: 1.00, Epsilon: 0.96\n"
          ]
        },
        {
          "output_type": "stream",
          "name": "stderr",
          "text": [
            "  8%|▊         | 1509/20000 [00:35<06:17, 49.03it/s]"
          ]
        },
        {
          "output_type": "stream",
          "name": "stdout",
          "text": [
            "Episode: 1500, Avg Reward: -200.00, Success Rate: 1.00, Epsilon: 0.93\n"
          ]
        },
        {
          "output_type": "stream",
          "name": "stderr",
          "text": [
            " 10%|█         | 2008/20000 [00:46<06:09, 48.63it/s]"
          ]
        },
        {
          "output_type": "stream",
          "name": "stdout",
          "text": [
            "Episode: 2000, Avg Reward: -200.00, Success Rate: 1.00, Epsilon: 0.91\n"
          ]
        },
        {
          "output_type": "stream",
          "name": "stderr",
          "text": [
            " 13%|█▎        | 2505/20000 [00:58<06:12, 46.97it/s]"
          ]
        },
        {
          "output_type": "stream",
          "name": "stdout",
          "text": [
            "Episode: 2500, Avg Reward: -200.00, Success Rate: 1.00, Epsilon: 0.89\n"
          ]
        },
        {
          "output_type": "stream",
          "name": "stderr",
          "text": [
            " 15%|█▌        | 3008/20000 [01:10<06:50, 41.40it/s]"
          ]
        },
        {
          "output_type": "stream",
          "name": "stdout",
          "text": [
            "Episode: 3000, Avg Reward: -200.00, Success Rate: 1.00, Epsilon: 0.87\n"
          ]
        },
        {
          "output_type": "stream",
          "name": "stderr",
          "text": [
            " 18%|█▊        | 3504/20000 [01:21<08:14, 33.39it/s]"
          ]
        },
        {
          "output_type": "stream",
          "name": "stdout",
          "text": [
            "Episode: 3500, Avg Reward: -200.00, Success Rate: 1.00, Epsilon: 0.84\n"
          ]
        },
        {
          "output_type": "stream",
          "name": "stderr",
          "text": [
            " 20%|██        | 4006/20000 [01:32<05:52, 45.38it/s]"
          ]
        },
        {
          "output_type": "stream",
          "name": "stdout",
          "text": [
            "Episode: 4000, Avg Reward: -200.00, Success Rate: 1.00, Epsilon: 0.82\n"
          ]
        },
        {
          "output_type": "stream",
          "name": "stderr",
          "text": [
            " 23%|██▎       | 4508/20000 [01:44<05:16, 48.99it/s]"
          ]
        },
        {
          "output_type": "stream",
          "name": "stdout",
          "text": [
            "Episode: 4500, Avg Reward: -200.00, Success Rate: 1.00, Epsilon: 0.80\n"
          ]
        },
        {
          "output_type": "stream",
          "name": "stderr",
          "text": [
            " 25%|██▌       | 5009/20000 [01:56<05:14, 47.64it/s]"
          ]
        },
        {
          "output_type": "stream",
          "name": "stdout",
          "text": [
            "Episode: 5000, Avg Reward: -200.00, Success Rate: 1.00, Epsilon: 0.78\n"
          ]
        },
        {
          "output_type": "stream",
          "name": "stderr",
          "text": [
            " 28%|██▊       | 5508/20000 [02:07<04:53, 49.39it/s]"
          ]
        },
        {
          "output_type": "stream",
          "name": "stdout",
          "text": [
            "Episode: 5500, Avg Reward: -200.00, Success Rate: 1.00, Epsilon: 0.75\n"
          ]
        },
        {
          "output_type": "stream",
          "name": "stderr",
          "text": [
            " 30%|███       | 6009/20000 [02:19<04:57, 47.00it/s]"
          ]
        },
        {
          "output_type": "stream",
          "name": "stdout",
          "text": [
            "Episode: 6000, Avg Reward: -200.00, Success Rate: 1.00, Epsilon: 0.73\n"
          ]
        },
        {
          "output_type": "stream",
          "name": "stderr",
          "text": [
            " 33%|███▎      | 6504/20000 [02:31<04:50, 46.48it/s]"
          ]
        },
        {
          "output_type": "stream",
          "name": "stdout",
          "text": [
            "Episode: 6500, Avg Reward: -200.00, Success Rate: 1.00, Epsilon: 0.71\n"
          ]
        },
        {
          "output_type": "stream",
          "name": "stderr",
          "text": [
            " 35%|███▌      | 7008/20000 [02:43<05:10, 41.86it/s]"
          ]
        },
        {
          "output_type": "stream",
          "name": "stdout",
          "text": [
            "Episode: 7000, Avg Reward: -200.00, Success Rate: 1.00, Epsilon: 0.69\n"
          ]
        },
        {
          "output_type": "stream",
          "name": "stderr",
          "text": [
            " 38%|███▊      | 7504/20000 [02:54<05:49, 35.71it/s]"
          ]
        },
        {
          "output_type": "stream",
          "name": "stdout",
          "text": [
            "Episode: 7500, Avg Reward: -200.00, Success Rate: 1.00, Epsilon: 0.66\n"
          ]
        },
        {
          "output_type": "stream",
          "name": "stderr",
          "text": [
            " 40%|████      | 8005/20000 [03:05<04:10, 47.80it/s]"
          ]
        },
        {
          "output_type": "stream",
          "name": "stdout",
          "text": [
            "Episode: 8000, Avg Reward: -200.00, Success Rate: 1.00, Epsilon: 0.64\n"
          ]
        },
        {
          "output_type": "stream",
          "name": "stderr",
          "text": [
            " 43%|████▎     | 8505/20000 [03:16<03:55, 48.71it/s]"
          ]
        },
        {
          "output_type": "stream",
          "name": "stdout",
          "text": [
            "Episode: 8500, Avg Reward: -200.00, Success Rate: 1.00, Epsilon: 0.62\n"
          ]
        },
        {
          "output_type": "stream",
          "name": "stderr",
          "text": [
            " 45%|████▌     | 9007/20000 [03:28<04:00, 45.66it/s]"
          ]
        },
        {
          "output_type": "stream",
          "name": "stdout",
          "text": [
            "Episode: 9000, Avg Reward: -200.00, Success Rate: 1.00, Epsilon: 0.60\n"
          ]
        },
        {
          "output_type": "stream",
          "name": "stderr",
          "text": [
            " 48%|████▊     | 9508/20000 [03:40<03:41, 47.39it/s]"
          ]
        },
        {
          "output_type": "stream",
          "name": "stdout",
          "text": [
            "Episode: 9500, Avg Reward: -200.00, Success Rate: 1.00, Epsilon: 0.57\n"
          ]
        },
        {
          "output_type": "stream",
          "name": "stderr",
          "text": [
            " 50%|█████     | 10006/20000 [03:51<03:28, 47.95it/s]"
          ]
        },
        {
          "output_type": "stream",
          "name": "stdout",
          "text": [
            "Episode: 10000, Avg Reward: -200.00, Success Rate: 1.00, Epsilon: 0.55\n"
          ]
        },
        {
          "output_type": "stream",
          "name": "stderr",
          "text": [
            " 53%|█████▎    | 10509/20000 [04:02<03:22, 46.87it/s]"
          ]
        },
        {
          "output_type": "stream",
          "name": "stdout",
          "text": [
            "Episode: 10500, Avg Reward: -200.00, Success Rate: 1.00, Epsilon: 0.53\n"
          ]
        },
        {
          "output_type": "stream",
          "name": "stderr",
          "text": [
            " 55%|█████▌    | 11008/20000 [04:14<03:31, 42.46it/s]"
          ]
        },
        {
          "output_type": "stream",
          "name": "stdout",
          "text": [
            "Episode: 11000, Avg Reward: -200.00, Success Rate: 1.00, Epsilon: 0.51\n"
          ]
        },
        {
          "output_type": "stream",
          "name": "stderr",
          "text": [
            " 58%|█████▊    | 11506/20000 [04:25<04:02, 35.02it/s]"
          ]
        },
        {
          "output_type": "stream",
          "name": "stdout",
          "text": [
            "Episode: 11500, Avg Reward: -199.88, Success Rate: 1.00, Epsilon: 0.48\n"
          ]
        },
        {
          "output_type": "stream",
          "name": "stderr",
          "text": [
            " 60%|██████    | 12009/20000 [04:36<02:38, 50.44it/s]"
          ]
        },
        {
          "output_type": "stream",
          "name": "stdout",
          "text": [
            "Episode: 12000, Avg Reward: -199.93, Success Rate: 1.00, Epsilon: 0.46\n"
          ]
        },
        {
          "output_type": "stream",
          "name": "stderr",
          "text": [
            " 63%|██████▎   | 12508/20000 [04:47<02:28, 50.52it/s]"
          ]
        },
        {
          "output_type": "stream",
          "name": "stdout",
          "text": [
            "Episode: 12500, Avg Reward: -199.77, Success Rate: 1.00, Epsilon: 0.44\n"
          ]
        },
        {
          "output_type": "stream",
          "name": "stderr",
          "text": [
            " 65%|██████▌   | 13006/20000 [04:58<02:20, 49.69it/s]"
          ]
        },
        {
          "output_type": "stream",
          "name": "stdout",
          "text": [
            "Episode: 13000, Avg Reward: -199.64, Success Rate: 1.00, Epsilon: 0.42\n"
          ]
        },
        {
          "output_type": "stream",
          "name": "stderr",
          "text": [
            " 68%|██████▊   | 13506/20000 [05:10<02:13, 48.71it/s]"
          ]
        },
        {
          "output_type": "stream",
          "name": "stdout",
          "text": [
            "Episode: 13500, Avg Reward: -199.22, Success Rate: 1.00, Epsilon: 0.39\n"
          ]
        },
        {
          "output_type": "stream",
          "name": "stderr",
          "text": [
            " 70%|███████   | 14008/20000 [05:21<02:12, 45.37it/s]"
          ]
        },
        {
          "output_type": "stream",
          "name": "stdout",
          "text": [
            "Episode: 14000, Avg Reward: -199.50, Success Rate: 1.00, Epsilon: 0.37\n"
          ]
        },
        {
          "output_type": "stream",
          "name": "stderr",
          "text": [
            " 73%|███████▎  | 14509/20000 [05:32<01:56, 47.06it/s]"
          ]
        },
        {
          "output_type": "stream",
          "name": "stdout",
          "text": [
            "Episode: 14500, Avg Reward: -198.36, Success Rate: 1.00, Epsilon: 0.35\n"
          ]
        },
        {
          "output_type": "stream",
          "name": "stderr",
          "text": [
            " 75%|███████▌  | 15006/20000 [05:42<02:04, 40.20it/s]"
          ]
        },
        {
          "output_type": "stream",
          "name": "stdout",
          "text": [
            "Episode: 15000, Avg Reward: -195.86, Success Rate: 1.00, Epsilon: 0.33\n"
          ]
        },
        {
          "output_type": "stream",
          "name": "stderr",
          "text": [
            " 78%|███████▊  | 15511/20000 [05:53<01:24, 53.05it/s]"
          ]
        },
        {
          "output_type": "stream",
          "name": "stdout",
          "text": [
            "Episode: 15500, Avg Reward: -196.38, Success Rate: 1.00, Epsilon: 0.30\n"
          ]
        },
        {
          "output_type": "stream",
          "name": "stderr",
          "text": [
            " 80%|████████  | 16005/20000 [06:04<01:16, 52.21it/s]"
          ]
        },
        {
          "output_type": "stream",
          "name": "stdout",
          "text": [
            "Episode: 16000, Avg Reward: -194.32, Success Rate: 1.00, Epsilon: 0.28\n"
          ]
        },
        {
          "output_type": "stream",
          "name": "stderr",
          "text": [
            " 83%|████████▎ | 16506/20000 [06:15<01:38, 35.36it/s]"
          ]
        },
        {
          "output_type": "stream",
          "name": "stdout",
          "text": [
            "Episode: 16500, Avg Reward: -193.50, Success Rate: 1.00, Epsilon: 0.26\n"
          ]
        },
        {
          "output_type": "stream",
          "name": "stderr",
          "text": [
            " 85%|████████▌ | 17007/20000 [06:26<00:55, 53.56it/s]"
          ]
        },
        {
          "output_type": "stream",
          "name": "stdout",
          "text": [
            "Episode: 17000, Avg Reward: -192.02, Success Rate: 1.00, Epsilon: 0.24\n"
          ]
        },
        {
          "output_type": "stream",
          "name": "stderr",
          "text": [
            " 88%|████████▊ | 17506/20000 [06:37<01:12, 34.52it/s]"
          ]
        },
        {
          "output_type": "stream",
          "name": "stdout",
          "text": [
            "Episode: 17500, Avg Reward: -188.68, Success Rate: 1.00, Epsilon: 0.21\n"
          ]
        },
        {
          "output_type": "stream",
          "name": "stderr",
          "text": [
            " 90%|█████████ | 18008/20000 [06:47<00:37, 52.48it/s]"
          ]
        },
        {
          "output_type": "stream",
          "name": "stdout",
          "text": [
            "Episode: 18000, Avg Reward: -188.01, Success Rate: 1.00, Epsilon: 0.19\n"
          ]
        },
        {
          "output_type": "stream",
          "name": "stderr",
          "text": [
            " 93%|█████████▎| 18508/20000 [06:57<00:24, 61.08it/s]"
          ]
        },
        {
          "output_type": "stream",
          "name": "stdout",
          "text": [
            "Episode: 18500, Avg Reward: -179.36, Success Rate: 1.00, Epsilon: 0.17\n"
          ]
        },
        {
          "output_type": "stream",
          "name": "stderr",
          "text": [
            " 95%|█████████▌| 19011/20000 [07:07<00:17, 56.80it/s]"
          ]
        },
        {
          "output_type": "stream",
          "name": "stdout",
          "text": [
            "Episode: 19000, Avg Reward: -177.95, Success Rate: 1.00, Epsilon: 0.15\n"
          ]
        },
        {
          "output_type": "stream",
          "name": "stderr",
          "text": [
            " 98%|█████████▊| 19506/20000 [07:17<00:09, 49.81it/s]"
          ]
        },
        {
          "output_type": "stream",
          "name": "stdout",
          "text": [
            "Episode: 19500, Avg Reward: -181.46, Success Rate: 1.00, Epsilon: 0.12\n"
          ]
        },
        {
          "output_type": "stream",
          "name": "stderr",
          "text": [
            "100%|██████████| 20000/20000 [07:25<00:00, 44.86it/s]\n"
          ]
        },
        {
          "output_type": "stream",
          "name": "stdout",
          "text": [
            "Episode: 20000, Avg Reward: -171.45, Success Rate: 1.00, Epsilon: 0.10\n"
          ]
        },
        {
          "output_type": "display_data",
          "data": {
            "text/plain": [
              "<Figure size 640x480 with 1 Axes>"
            ],
            "image/png": "[encoded data removed]"
          },
          "metadata": {}
        }
      ]
    },
    {
      "cell_type": "markdown",
      "id": "66caa919",
      "metadata": {
        "id": "66caa919"
      },
      "source": [
        "## Обратная связь\n",
        "- [ ] Хочу получить обратную связь по решению"
      ]
    }
  ],
  "metadata": {
    "kernelspec": {
      "display_name": "Python 3 (ipykernel)",
      "language": "python",
      "name": "python3"
    },
    "language_info": {
      "codemirror_mode": {
        "name": "ipython",
        "version": 3
      },
      "file_extension": ".py",
      "mimetype": "text/x-python",
      "name": "python",
      "nbconvert_exporter": "python",
      "pygments_lexer": "ipython3",
      "version": "3.10.0"
    },
    "colab": {
      "provenance": []
    }
  },
  "nbformat": 4,
  "nbformat_minor": 5
}